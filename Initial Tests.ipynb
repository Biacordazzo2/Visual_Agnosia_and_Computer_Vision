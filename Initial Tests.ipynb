{
 "cells": [
  {
   "cell_type": "markdown",
   "metadata": {},
   "source": [
    "### Understanding Visual Agnosia with Computer Vision\n",
    "\n",
    "**Neuro140 Final Project**\n",
    "\n",
    "**Bianca Cordazzo**"
   ]
  },
  {
   "cell_type": "markdown",
   "metadata": {},
   "source": [
    "### Initial Tests for improving model's performance"
   ]
  },
  {
   "cell_type": "code",
   "execution_count": 2,
   "metadata": {},
   "outputs": [
    {
     "name": "stdout",
     "output_type": "stream",
     "text": [
      "PyTorch Version:  1.4.0\n",
      "Torchvision Version:  0.5.0\n"
     ]
    }
   ],
   "source": [
    "# Reference: https://pytorch.org/tutorials/beginner/finetuning_torchvision_models_tutorial.html\n",
    "\n",
    "from __future__ import print_function\n",
    "from __future__ import division\n",
    "import torch\n",
    "import torch.nn as nn\n",
    "import torch.optim as optim\n",
    "import numpy as np\n",
    "import torchvision\n",
    "from torchvision import datasets, models, transforms\n",
    "import matplotlib.pyplot as plt\n",
    "import time\n",
    "import os\n",
    "import copy\n",
    "import seaborn as sns\n",
    "\n",
    "print(\"PyTorch Version: \",torch.__version__)\n",
    "print(\"Torchvision Version: \",torchvision.__version__)"
   ]
  },
  {
   "cell_type": "code",
   "execution_count": 3,
   "metadata": {},
   "outputs": [
    {
     "name": "stdout",
     "output_type": "stream",
     "text": [
      "Files already downloaded and verified\n",
      "Files already downloaded and verified\n"
     ]
    }
   ],
   "source": [
    "# Reference: https://pytorch.org/tutorials/beginner/blitz/cifar10_tutorial.html\n",
    "\n",
    "# Data normalization for training and validation\n",
    "transform = transforms.Compose(\n",
    "    [transforms.ToTensor(),\n",
    "     transforms.Normalize((0.5, 0.5, 0.5), (0.5, 0.5, 0.5))])\n",
    "  \n",
    "# Create training and validation datasets\n",
    "trainset = torchvision.datasets.CIFAR10(root = \"./data/train/\", train=True,\n",
    "                                        download=True, transform=transform)\n",
    "\n",
    "testset = torchvision.datasets.CIFAR10(root = \"./data/test/\", train=False,\n",
    "                                       download=True, transform=transform)\n",
    "\n",
    "# Create training and validation dataloaders\n",
    "trainloader = torch.utils.data.DataLoader(trainset, batch_size=4,\n",
    "                                          shuffle=True, num_workers=2)\n",
    "\n",
    "testloader = torch.utils.data.DataLoader(testset, batch_size=4,\n",
    "                                         shuffle=False, num_workers=2)\n",
    "\n",
    "classes = ('plane', 'car', 'bird', 'cat','deer', \n",
    "           'dog', 'frog', 'horse', 'ship', 'truck')"
   ]
  },
  {
   "cell_type": "code",
   "execution_count": 6,
   "metadata": {},
   "outputs": [
    {
     "data": {
      "image/png": "[encoded data removed]",
      "text/plain": [
       "<Figure size 432x288 with 1 Axes>"
      ]
     },
     "metadata": {
      "needs_background": "light"
     },
     "output_type": "display_data"
    },
    {
     "name": "stdout",
     "output_type": "stream",
     "text": [
      "  dog   dog   cat  frog\n"
     ]
    }
   ],
   "source": [
    "# Reference: https://pytorch.org/tutorials/beginner/blitz/cifar10_tutorial.html\n",
    "\n",
    "# function to show an image\n",
    "def imshow(img):\n",
    "    img = img / 2 + 0.5     # unnormalize\n",
    "    npimg = img.numpy()\n",
    "    plt.imshow(np.transpose(npimg, (1, 2, 0)))\n",
    "    plt.show()\n",
    "\n",
    "# get some random training images\n",
    "dataiter = iter(trainloader)\n",
    "images, labels = dataiter.next()\n",
    "\n",
    "# show images\n",
    "imshow(torchvision.utils.make_grid(images))\n",
    "\n",
    "# titles = classes[labels[j]] for j in range(4)\n",
    "\n",
    "# print labels\n",
    "print(' '.join('%5s' % classes[labels[j]] for j in range(4)))"
   ]
  },
  {
   "cell_type": "markdown",
   "metadata": {},
   "source": [
    "### Test 1:\n",
    "Use ***Feature Extraction*** to Optimize Model's Performance"
   ]
  },
  {
   "cell_type": "code",
   "execution_count": 7,
   "metadata": {},
   "outputs": [],
   "source": [
    "# Reference: https://pytorch.org/tutorials/beginner/finetuning_torchvision_models_tutorial.html\n",
    "\n",
    "# Top level data directory. Here we assume the format of the directory conforms\n",
    "# to the ImageFolder structure\n",
    "data_dir = \"./data\"\n",
    "\n",
    "# Models to choose from [resnet, alexnet, vgg, squeezenet, densenet, inception]\n",
    "model_name = \"resnet\"\n",
    "\n",
    "# Number of classes in the dataset\n",
    "num_classes = 10\n",
    "\n",
    "# Number of epochs to train for\n",
    "num_epochs = 20\n",
    "\n",
    "# Flag for feature extracting. When False, we finetune the whole model,\n",
    "# when True we only update the reshaped layer params\n",
    "feature_extract = True"
   ]
  },
  {
   "cell_type": "code",
   "execution_count": 8,
   "metadata": {},
   "outputs": [],
   "source": [
    "# References: https://pytorch.org/tutorials/beginner/finetuning_torchvision_models_tutorial.html\n",
    "#             https://blog.paperspace.com/pytorch-101-building-neural-networks/\n",
    "#             https://pytorch.org/tutorials/beginner/transfer_learning_tutorial.html\n",
    "\n",
    "def train_model(model, trainloader, testloader, criterion, optimizer, num_epochs):\n",
    "    \n",
    "    epoch_losses = []\n",
    "    epoch_acc = []\n",
    "    \n",
    "    for epoch in range(num_epochs):\n",
    "        print('Epoch {}/{}'.format(epoch + 1, num_epochs))\n",
    "        print('-' * 10)\n",
    "        epoch_loss = 0.0\n",
    "        losses = []\n",
    "        \n",
    "        # Train\n",
    "        start = time.time()\n",
    "        for batch_idx, data in enumerate(trainloader):\n",
    "            inputs, targets = data\n",
    "\n",
    "            optimizer.zero_grad()                 # Zero the gradients\n",
    "\n",
    "            outputs = model(inputs)                 # Forward pass\n",
    "            loss = criterion(outputs, targets)    # Compute the Loss\n",
    "            loss.backward()                       # Compute the Gradients\n",
    "            optimizer.step()                      # Updated the weights\n",
    "            \n",
    "            losses.append(loss.item())\n",
    "            end = time.time()\n",
    "                \n",
    "        epoch_loss += outputs.shape[0] * loss.item()\n",
    "        epoch_losses.append(epoch_loss/len(trainset))\n",
    "        print('Train loss : %.3f' % (epoch_loss))\n",
    "        \n",
    "        # Evaluate\n",
    "        model.eval()\n",
    "        total = 0\n",
    "        correct = 0\n",
    "\n",
    "        with torch.no_grad():\n",
    "            for batch_idx, data in enumerate(testloader):\n",
    "                inputs, targets = data\n",
    "\n",
    "                outputs = model(inputs)\n",
    "                _, predicted = torch.max(outputs.data, 1)\n",
    "                total += targets.size(0)\n",
    "                correct += predicted.eq(targets.data).cpu().sum()\n",
    "\n",
    "            epoch_acc.append(100.*correct/total)\n",
    "            print('Test Acc : %.3f' % (100.*correct/total))\n",
    "            print('--------------------------------------------------------------')\n",
    "        model.train() \n",
    "        \n",
    "    return model, epoch_losses, epoch_acc"
   ]
  },
  {
   "cell_type": "code",
   "execution_count": 9,
   "metadata": {},
   "outputs": [],
   "source": [
    "# Reference: https://pytorch.org/tutorials/beginner/finetuning_torchvision_models_tutorial.html\n",
    "\n",
    "def set_parameter_requires_grad(model, feature_extracting):\n",
    "    if feature_extracting:\n",
    "        for param in model.parameters():\n",
    "            param.requires_grad = False"
   ]
  },
  {
   "cell_type": "code",
   "execution_count": 14,
   "metadata": {},
   "outputs": [],
   "source": [
    "# Reference: https://pytorch.org/tutorials/beginner/finetuning_torchvision_models_tutorial.html\n",
    "\n",
    "def initialize_model(model_name, num_classes, feature_extract, use_pretrained=True):\n",
    "\n",
    "    model_ft = None\n",
    "    input_size = 0\n",
    "\n",
    "    if model_name == \"resnet\":\n",
    "        \"\"\" Resnet18\n",
    "        \"\"\"\n",
    "        model_ft = models.resnet18(pretrained=use_pretrained)\n",
    "        set_parameter_requires_grad(model_ft, feature_extract)\n",
    "        num_ftrs = model_ft.fc.in_features\n",
    "        model_ft.fc = nn.Linear(512, num_classes)\n",
    "        input_size = 224\n",
    "\n",
    "    else:\n",
    "        print(\"Invalid model name, exiting...\")\n",
    "        exit()\n",
    "\n",
    "    return model_ft, input_size\n",
    "\n",
    "# \"Initialize the model for this run\"\n",
    "model_ft, input_size = initialize_model(model_name, num_classes, feature_extract, use_pretrained=True)\n",
    "\n",
    "# \"Print the model we just instantiated\"\n",
    "# print(model_ft)"
   ]
  },
  {
   "cell_type": "code",
   "execution_count": 11,
   "metadata": {},
   "outputs": [
    {
     "name": "stdout",
     "output_type": "stream",
     "text": [
      "Params to learn:\n",
      "\t fc.weight\n",
      "\t fc.bias\n"
     ]
    }
   ],
   "source": [
    "# References: https://pytorch.org/tutorials/beginner/finetuning_torchvision_models_tutorial.html\n",
    "#             https://pytorch.org/tutorials/beginner/transfer_learning_tutorial.html\n",
    "\n",
    "params_to_update = model_ft.parameters()\n",
    "print(\"Params to learn:\")\n",
    "if feature_extract:\n",
    "    params_to_update = []\n",
    "    for name,param in model_ft.named_parameters():\n",
    "        if param.requires_grad == True:\n",
    "            params_to_update.append(param)\n",
    "            print(\"\\t\",name)\n",
    "else:\n",
    "    for name,param in model_ft.named_parameters():\n",
    "        if param.requires_grad == True:\n",
    "            print(\"\\t\",name)\n",
    "\n",
    "# Setup optimizer\n",
    "optimizer_ft = optim.SGD(params_to_update, lr=0.001, momentum=0.9)\n",
    "\n",
    "# Setup the loss function\n",
    "criterion = nn.CrossEntropyLoss()"
   ]
  },
  {
   "cell_type": "code",
   "execution_count": 10,
   "metadata": {},
   "outputs": [
    {
     "name": "stdout",
     "output_type": "stream",
     "text": [
      "Epoch 1/20\n",
      "----------\n",
      "Train loss : 14.486\n",
      "Test Acc : 27.700\n",
      "--------------------------------------------------------------\n",
      "Epoch 2/20\n",
      "----------\n",
      "Train loss : 11.091\n",
      "Test Acc : 26.480\n",
      "--------------------------------------------------------------\n",
      "Epoch 3/20\n",
      "----------\n",
      "Train loss : 8.379\n",
      "Test Acc : 24.980\n",
      "--------------------------------------------------------------\n",
      "Epoch 4/20\n",
      "----------\n",
      "Train loss : 9.908\n",
      "Test Acc : 27.580\n",
      "--------------------------------------------------------------\n",
      "Epoch 5/20\n",
      "----------\n",
      "Train loss : 4.128\n",
      "Test Acc : 28.450\n",
      "--------------------------------------------------------------\n",
      "Epoch 6/20\n",
      "----------\n",
      "Train loss : 3.978\n",
      "Test Acc : 29.300\n",
      "--------------------------------------------------------------\n",
      "Epoch 7/20\n",
      "----------\n",
      "Train loss : 12.288\n",
      "Test Acc : 27.860\n",
      "--------------------------------------------------------------\n",
      "Epoch 8/20\n",
      "----------\n",
      "Train loss : 3.011\n",
      "Test Acc : 26.440\n",
      "--------------------------------------------------------------\n",
      "Epoch 9/20\n",
      "----------\n",
      "Train loss : 11.388\n",
      "Test Acc : 26.280\n",
      "--------------------------------------------------------------\n",
      "Epoch 10/20\n",
      "----------\n",
      "Train loss : 7.988\n",
      "Test Acc : 25.970\n",
      "--------------------------------------------------------------\n",
      "Epoch 11/20\n",
      "----------\n",
      "Train loss : 10.183\n",
      "Test Acc : 27.050\n",
      "--------------------------------------------------------------\n",
      "Epoch 12/20\n",
      "----------\n",
      "Train loss : 7.811\n",
      "Test Acc : 27.250\n",
      "--------------------------------------------------------------\n",
      "Epoch 13/20\n",
      "----------\n",
      "Train loss : 10.806\n",
      "Test Acc : 28.490\n",
      "--------------------------------------------------------------\n",
      "Epoch 14/20\n",
      "----------\n",
      "Train loss : 5.720\n",
      "Test Acc : 23.600\n",
      "--------------------------------------------------------------\n",
      "Epoch 15/20\n",
      "----------\n",
      "Train loss : 14.336\n",
      "Test Acc : 24.730\n",
      "--------------------------------------------------------------\n",
      "Epoch 16/20\n",
      "----------\n",
      "Train loss : 12.817\n",
      "Test Acc : 27.080\n",
      "--------------------------------------------------------------\n",
      "Epoch 17/20\n",
      "----------\n",
      "Train loss : 12.637\n",
      "Test Acc : 27.680\n",
      "--------------------------------------------------------------\n",
      "Epoch 18/20\n",
      "----------\n",
      "Train loss : 7.838\n",
      "Test Acc : 26.160\n",
      "--------------------------------------------------------------\n",
      "Epoch 19/20\n",
      "----------\n",
      "Train loss : 14.149\n",
      "Test Acc : 29.730\n",
      "--------------------------------------------------------------\n",
      "Epoch 20/20\n",
      "----------\n",
      "Train loss : 12.351\n",
      "Test Acc : 26.410\n",
      "--------------------------------------------------------------\n"
     ]
    }
   ],
   "source": [
    "# Reference: https://pytorch.org/tutorials/beginner/finetuning_torchvision_models_tutorial.html\n",
    "\n",
    "# \"Train and evaluate\"\n",
    "model, epoch_losses, epoch_acc = train_model(model_ft, trainloader, testloader, \n",
    "                                             criterion, optimizer_ft, num_epochs=num_epochs)"
   ]
  },
  {
   "cell_type": "code",
   "execution_count": 11,
   "metadata": {},
   "outputs": [
    {
     "data": {
      "text/plain": [
       "<Figure size 432x288 with 0 Axes>"
      ]
     },
     "execution_count": 11,
     "metadata": {},
     "output_type": "execute_result"
    },
    {
     "data": {
      "image/png": "[encoded data removed]",
      "text/plain": [
       "<Figure size 432x288 with 1 Axes>"
      ]
     },
     "metadata": {
      "needs_background": "light"
     },
     "output_type": "display_data"
    },
    {
     "data": {
      "text/plain": [
       "<Figure size 432x288 with 0 Axes>"
      ]
     },
     "metadata": {},
     "output_type": "display_data"
    }
   ],
   "source": [
    "# Plots Train losses vs. Epochs\n",
    "plt.title('Model Performance')\n",
    "plt.plot(epoch_losses)\n",
    "plt.xlabel('Epochs')\n",
    "plt.ylabel('Train losses')\n",
    "plt.show()"
   ]
  },
  {
   "cell_type": "code",
   "execution_count": 12,
   "metadata": {},
   "outputs": [
    {
     "data": {
      "text/plain": [
       "<Figure size 432x288 with 0 Axes>"
      ]
     },
     "execution_count": 12,
     "metadata": {},
     "output_type": "execute_result"
    },
    {
     "data": {
      "image/png": "[encoded data removed]",
      "text/plain": [
       "<Figure size 432x288 with 1 Axes>"
      ]
     },
     "metadata": {
      "needs_background": "light"
     },
     "output_type": "display_data"
    },
    {
     "data": {
      "text/plain": [
       "<Figure size 432x288 with 0 Axes>"
      ]
     },
     "metadata": {},
     "output_type": "display_data"
    }
   ],
   "source": [
    "# Plots Test Accuracy vs. Epochs\n",
    "plt.title('Model Performance')\n",
    "plt.plot(epoch_acc)\n",
    "plt.xlabel('Epochs')\n",
    "plt.ylabel('Test Accuracy')\n",
    "plt.show()"
   ]
  },
  {
   "cell_type": "code",
   "execution_count": 13,
   "metadata": {},
   "outputs": [
    {
     "name": "stdout",
     "output_type": "stream",
     "text": [
      "Predicted:    car  deer  bird  bird\n"
     ]
    }
   ],
   "source": [
    "# Reference: https://pytorch.org/tutorials/beginner/blitz/cifar10_tutorial.html\n",
    "\n",
    "# Calculates and prints neural network's prediction\n",
    "outputs = model_ft(images)\n",
    "\n",
    "_, predicted = torch.max(outputs, 1)\n",
    "\n",
    "print('Predicted: ', ' '.join('%5s' % classes[predicted[j]]\n",
    "                              for j in range(4)))"
   ]
  },
  {
   "cell_type": "code",
   "execution_count": 14,
   "metadata": {},
   "outputs": [
    {
     "name": "stdout",
     "output_type": "stream",
     "text": [
      "Accuracy of the network on the 10000 test images: 25 %\n"
     ]
    }
   ],
   "source": [
    "# Reference: https://pytorch.org/tutorials/beginner/blitz/cifar10_tutorial.html\n",
    "\n",
    "# Calculates the network's performance on the whole dataset\n",
    "correct = 0\n",
    "total = 0\n",
    "with torch.no_grad():\n",
    "    for data in testloader:\n",
    "        images, labels = data\n",
    "        outputs = model_ft(images)\n",
    "        _, predicted = torch.max(outputs.data, 1)\n",
    "        total += labels.size(0)\n",
    "        correct += (predicted == labels).sum().item()\n",
    "\n",
    "print('Accuracy of the network on the 10000 test images: %d %%' % (\n",
    "    100 * correct / total))"
   ]
  },
  {
   "cell_type": "code",
   "execution_count": 15,
   "metadata": {},
   "outputs": [
    {
     "name": "stdout",
     "output_type": "stream",
     "text": [
      "Accuracy of plane : 19 %\n",
      "Accuracy of   car : 45 %\n",
      "Accuracy of  bird : 40 %\n",
      "Accuracy of   cat : 16 %\n",
      "Accuracy of  deer : 21 %\n",
      "Accuracy of   dog : 16 %\n",
      "Accuracy of  frog : 27 %\n",
      "Accuracy of horse : 15 %\n",
      "Accuracy of  ship : 47 %\n",
      "Accuracy of truck :  7 %\n"
     ]
    }
   ],
   "source": [
    "# Reference: https://pytorch.org/tutorials/beginner/blitz/cifar10_tutorial.html\n",
    "\n",
    "# Calculates the network's performance across all classes\n",
    "class_correct = list(0. for i in range(10))\n",
    "class_total = list(0. for i in range(10))\n",
    "with torch.no_grad():\n",
    "    for data in testloader:\n",
    "        images, labels = data\n",
    "        outputs = model_ft(images)\n",
    "        _, predicted = torch.max(outputs, 1)\n",
    "        c = (predicted == labels).squeeze()\n",
    "        for i in range(4):\n",
    "            label = labels[i]\n",
    "            class_correct[label] += c[i].item()\n",
    "            class_total[label] += 1\n",
    "\n",
    "acc_hist = []\n",
    "for i in range(10):\n",
    "    print('Accuracy of %5s : %2d %%' % (\n",
    "        classes[i], 100 * class_correct[i] / class_total[i]))\n",
    "    acc_hist.append(100 * class_correct[i] / class_total[i])"
   ]
  },
  {
   "cell_type": "code",
   "execution_count": 16,
   "metadata": {},
   "outputs": [
    {
     "data": {
      "image/png": "[encoded data removed]",
      "text/plain": [
       "<Figure size 432x288 with 1 Axes>"
      ]
     },
     "metadata": {
      "needs_background": "light"
     },
     "output_type": "display_data"
    }
   ],
   "source": [
    "# barplot depicting network's performance across all classes\n",
    "class_list = []\n",
    "for i in classes:\n",
    "    class_list.append(i)\n",
    "    \n",
    "ax = sns.barplot(x=acc_hist, y=class_list)"
   ]
  },
  {
   "cell_type": "markdown",
   "metadata": {},
   "source": [
    "### Test 2:\n",
    "Train the model ***from scratch*** to optimize performance. Also note that from here onwards we set *batch_size = 256* to speed up the training!"
   ]
  },
  {
   "cell_type": "code",
   "execution_count": 17,
   "metadata": {},
   "outputs": [],
   "source": [
    "# Create training and validation dataloaders\n",
    "trainloader = torch.utils.data.DataLoader(trainset, batch_size=256,\n",
    "                                          shuffle=True, num_workers=2)\n",
    "\n",
    "testloader = torch.utils.data.DataLoader(testset, batch_size=256,\n",
    "                                         shuffle=False, num_workers=2)"
   ]
  },
  {
   "cell_type": "code",
   "execution_count": 31,
   "metadata": {},
   "outputs": [
    {
     "name": "stdout",
     "output_type": "stream",
     "text": [
      "Epoch 1/20\n",
      "----------\n",
      "Train loss : 131.508\n",
      "Test Acc : 44.100\n",
      "--------------------------------------------------------------\n",
      "Epoch 2/20\n",
      "----------\n",
      "Train loss : 107.557\n",
      "Test Acc : 49.900\n",
      "--------------------------------------------------------------\n",
      "Epoch 3/20\n",
      "----------\n",
      "Train loss : 89.630\n",
      "Test Acc : 52.030\n",
      "--------------------------------------------------------------\n",
      "Epoch 4/20\n",
      "----------\n",
      "Train loss : 70.235\n",
      "Test Acc : 54.900\n",
      "--------------------------------------------------------------\n",
      "Epoch 5/20\n",
      "----------\n",
      "Train loss : 91.395\n",
      "Test Acc : 55.620\n",
      "--------------------------------------------------------------\n",
      "Epoch 6/20\n",
      "----------\n",
      "Train loss : 85.385\n",
      "Test Acc : 56.700\n",
      "--------------------------------------------------------------\n",
      "Epoch 7/20\n",
      "----------\n",
      "Train loss : 60.451\n",
      "Test Acc : 57.140\n",
      "--------------------------------------------------------------\n",
      "Epoch 8/20\n",
      "----------\n",
      "Train loss : 48.358\n",
      "Test Acc : 57.100\n",
      "--------------------------------------------------------------\n",
      "Epoch 9/20\n",
      "----------\n",
      "Train loss : 45.117\n",
      "Test Acc : 57.190\n",
      "--------------------------------------------------------------\n",
      "Epoch 10/20\n",
      "----------\n",
      "Train loss : 64.799\n",
      "Test Acc : 56.510\n",
      "--------------------------------------------------------------\n",
      "Epoch 11/20\n",
      "----------\n",
      "Train loss : 17.808\n",
      "Test Acc : 56.620\n",
      "--------------------------------------------------------------\n",
      "Epoch 12/20\n",
      "----------\n",
      "Train loss : 13.451\n",
      "Test Acc : 56.760\n",
      "--------------------------------------------------------------\n",
      "Epoch 13/20\n",
      "----------\n",
      "Train loss : 11.532\n",
      "Test Acc : 57.450\n",
      "--------------------------------------------------------------\n",
      "Epoch 14/20\n",
      "----------\n",
      "Train loss : 8.362\n",
      "Test Acc : 57.170\n",
      "--------------------------------------------------------------\n",
      "Epoch 15/20\n",
      "----------\n",
      "Train loss : 4.822\n",
      "Test Acc : 57.210\n",
      "--------------------------------------------------------------\n",
      "Epoch 16/20\n",
      "----------\n",
      "Train loss : 5.218\n",
      "Test Acc : 57.310\n",
      "--------------------------------------------------------------\n",
      "Epoch 17/20\n",
      "----------\n",
      "Train loss : 3.574\n",
      "Test Acc : 57.480\n",
      "--------------------------------------------------------------\n",
      "Epoch 18/20\n",
      "----------\n",
      "Train loss : 3.208\n",
      "Test Acc : 57.610\n",
      "--------------------------------------------------------------\n",
      "Epoch 19/20\n",
      "----------\n",
      "Train loss : 2.674\n",
      "Test Acc : 57.460\n",
      "--------------------------------------------------------------\n",
      "Epoch 20/20\n",
      "----------\n",
      "Train loss : 1.261\n",
      "Test Acc : 57.800\n",
      "--------------------------------------------------------------\n"
     ]
    }
   ],
   "source": [
    "# Initialize the non-pretrained version of the model\n",
    "scratch_model,_ = initialize_model(model_name, num_classes, feature_extract=False, \n",
    "                                   use_pretrained=False)\n",
    "\n",
    "scratch_optimizer = optim.SGD(scratch_model.parameters(), lr=0.001, momentum=0.9)\n",
    "scratch_criterion = nn.CrossEntropyLoss()\n",
    "\n",
    "# Train new model\n",
    "model_scratch, losses, acc = train_model(scratch_model, trainloader, testloader, \n",
    "                                         scratch_criterion, scratch_optimizer, \n",
    "                                         num_epochs=num_epochs)"
   ]
  },
  {
   "cell_type": "code",
   "execution_count": 35,
   "metadata": {},
   "outputs": [
    {
     "name": "stdout",
     "output_type": "stream",
     "text": [
      "Predicted:    cat plane   dog truck\n"
     ]
    }
   ],
   "source": [
    "# As before, we calculate and print neural network's prediction\n",
    "outputs_scratch = model_scratch(images)\n",
    "\n",
    "_, predicted_scratch = torch.max(outputs_scratch, 1)\n",
    "\n",
    "print('Predicted: ', ' '.join('%5s' % classes[predicted_scratch[j]]\n",
    "                              for j in range(4)))"
   ]
  },
  {
   "cell_type": "code",
   "execution_count": 36,
   "metadata": {},
   "outputs": [
    {
     "name": "stdout",
     "output_type": "stream",
     "text": [
      "Accuracy of the network trained from scratch on the 10000 test images: 57 %\n"
     ]
    }
   ],
   "source": [
    "# Now we look at the model's overall performance\n",
    "correct = 0\n",
    "total = 0\n",
    "\n",
    "with torch.no_grad():\n",
    "    for data in testloader:\n",
    "        images, labels = data\n",
    "        outputs_scratch = model_scratch(images)\n",
    "        _, predicted_scratch = torch.max(outputs_scratch.data, 1)\n",
    "        total += labels.size(0)\n",
    "        correct += (predicted_scratch == labels).sum().item()\n",
    "\n",
    "print('Accuracy of the network trained from scratch on the 10000 test images: %d %%' % \n",
    "      (100 * correct / total))"
   ]
  },
  {
   "cell_type": "code",
   "execution_count": 37,
   "metadata": {},
   "outputs": [
    {
     "name": "stdout",
     "output_type": "stream",
     "text": [
      "Accuracy of plane : 68 %\n",
      "Accuracy of   car : 76 %\n",
      "Accuracy of  bird : 84 %\n",
      "Accuracy of   cat : 31 %\n",
      "Accuracy of  deer : 15 %\n",
      "Accuracy of   dog : 26 %\n",
      "Accuracy of  frog : 33 %\n",
      "Accuracy of horse : 58 %\n",
      "Accuracy of  ship : 71 %\n",
      "Accuracy of truck : 58 %\n"
     ]
    }
   ],
   "source": [
    "# Now we look at the model's performance across classes\n",
    "class_correct = list(0. for i in range(10))\n",
    "class_total = list(0. for i in range(10))\n",
    "with torch.no_grad():\n",
    "    for data in testloader:\n",
    "        images, labels = data\n",
    "        outputs_scratch = model_scratch(images)\n",
    "        _, predicted_scratch = torch.max(outputs_scratch, 1)\n",
    "        c = (predicted_scratch == labels).squeeze()\n",
    "        for i in range(4):\n",
    "            label = labels[i]\n",
    "            class_correct[label] += c[i].item()\n",
    "            class_total[label] += 1\n",
    "\n",
    "\n",
    "acc_hist_scratch = []\n",
    "for i in range(10):\n",
    "    print('Accuracy of %5s : %2d %%' % (\n",
    "        classes[i], 100 * class_correct[i] / class_total[i]))\n",
    "    acc_hist_scratch.append(100 * class_correct[i] / class_total[i])"
   ]
  },
  {
   "cell_type": "code",
   "execution_count": 38,
   "metadata": {},
   "outputs": [
    {
     "data": {
      "image/png": "[encoded data removed]",
      "text/plain": [
       "<Figure size 432x288 with 1 Axes>"
      ]
     },
     "metadata": {
      "needs_background": "light"
     },
     "output_type": "display_data"
    }
   ],
   "source": [
    "# Barplot to ease comparison between classes\n",
    "class_list = []\n",
    "for i in classes:\n",
    "    class_list.append(i)\n",
    "    \n",
    "ax = sns.barplot(x=acc_hist_scratch, y=class_list)"
   ]
  },
  {
   "cell_type": "code",
   "execution_count": 40,
   "metadata": {},
   "outputs": [
    {
     "data": {
      "image/png": "[encoded data removed]",
      "text/plain": [
       "<Figure size 432x288 with 1 Axes>"
      ]
     },
     "metadata": {
      "needs_background": "light"
     },
     "output_type": "display_data"
    }
   ],
   "source": [
    "# Plots Train losses vs. Epochs\n",
    "plt.title('Model Performance')\n",
    "plt.plot(losses)\n",
    "plt.xlabel('Epochs')\n",
    "plt.ylabel('Train losses')\n",
    "plt.show()"
   ]
  },
  {
   "cell_type": "code",
   "execution_count": 41,
   "metadata": {},
   "outputs": [
    {
     "data": {
      "image/png": "[encoded data removed]",
      "text/plain": [
       "<Figure size 432x288 with 1 Axes>"
      ]
     },
     "metadata": {
      "needs_background": "light"
     },
     "output_type": "display_data"
    }
   ],
   "source": [
    "# Plots Test Accuracy vs. Epochs\n",
    "plt.title('Model Performance')\n",
    "plt.plot(acc)\n",
    "plt.xlabel('Epochs')\n",
    "plt.ylabel('Test Accuracy')\n",
    "plt.show()"
   ]
  },
  {
   "cell_type": "markdown",
   "metadata": {},
   "source": [
    "### Other References:\n",
    "\n",
    "- https://pytorch.org/docs/stable/torchvision/models.html\n",
    "- https://www.cs.toronto.edu/~kriz/cifar.html\n",
    "- https://cs231n.github.io/transfer-learning/\n",
    "- https://blog.paperspace.com/pytorch-101-building-neural-networks/\n",
    "- https://discuss.pytorch.org/t/how-to-draw-loss-per-epoch/22333"
   ]
  }
 ],
 "metadata": {
  "kernelspec": {
   "display_name": "Python 3",
   "language": "python",
   "name": "python3"
  },
  "language_info": {
   "codemirror_mode": {
    "name": "ipython",
    "version": 3
   },
   "file_extension": ".py",
   "mimetype": "text/x-python",
   "name": "python",
   "nbconvert_exporter": "python",
   "pygments_lexer": "ipython3",
   "version": "3.7.3"
  }
 },
 "nbformat": 4,
 "nbformat_minor": 2
}
