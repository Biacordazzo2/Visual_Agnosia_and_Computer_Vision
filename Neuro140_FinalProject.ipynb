{
 "cells": [
  {
   "attachments": {},
   "cell_type": "markdown",
   "metadata": {},
   "source": [
    "### Understanding Visual Agnosia with Computer Vision\n",
    "\n",
    "**Neuro140 Final Project**\n",
    "\n",
    "**Bianca Cordazzo**"
   ]
  },
  {
   "cell_type": "code",
   "execution_count": 218,
   "metadata": {},
   "outputs": [
    {
     "name": "stdout",
     "output_type": "stream",
     "text": [
      "PyTorch Version:  1.4.0\n",
      "Torchvision Version:  0.5.0\n"
     ]
    }
   ],
   "source": [
    "## Reference: https://pytorch.org/tutorials/beginner/finetuning_torchvision_models_tutorial.html\n",
    "\n",
    "import random  \n",
    "import torch\n",
    "import torch.nn as nn\n",
    "import torch.optim as optim\n",
    "import numpy as np\n",
    "import torchvision\n",
    "from torchvision import datasets, models, transforms\n",
    "import matplotlib.pyplot as plt\n",
    "import time\n",
    "import os\n",
    "import copy\n",
    "import seaborn as sns\n",
    "\n",
    "print(\"PyTorch Version: \",torch.__version__)\n",
    "print(\"Torchvision Version: \",torchvision.__version__)"
   ]
  },
  {
   "cell_type": "markdown",
   "metadata": {},
   "source": [
    "### Test 3:\n",
    "Use ***finetuning*** to optimize the model's performance. As we will see below, this was the most successful model among the 3 tested. Therefore, I continued with it for the rest of the project.\n",
    "\n",
    "\n",
    "To see Tests 1 and 2, please refer to *Initial Tests* file."
   ]
  },
  {
   "cell_type": "code",
   "execution_count": 2,
   "metadata": {},
   "outputs": [
    {
     "name": "stdout",
     "output_type": "stream",
     "text": [
      "Files already downloaded and verified\n",
      "Files already downloaded and verified\n"
     ]
    }
   ],
   "source": [
    "# Reference: https://pytorch.org/tutorials/beginner/blitz/cifar10_tutorial.html\n",
    "\n",
    "# Data normalization for training and validation\n",
    "transform = transforms.Compose(\n",
    "    [transforms.ToTensor(),\n",
    "     transforms.Normalize((0.5, 0.5, 0.5), (0.5, 0.5, 0.5))])\n",
    "    \n",
    "# Create training and validation datasets\n",
    "trainset = torchvision.datasets.CIFAR10(root = \"./data/train/\", train=True,\n",
    "                                        download=True, transform=transform)\n",
    "\n",
    "testset = torchvision.datasets.CIFAR10(root = \"./data/test/\", train=False,\n",
    "                                       download=True, transform=transform)\n",
    "\n",
    "# Create training and validation dataloaders\n",
    "trainloader = torch.utils.data.DataLoader(trainset, batch_size=256,\n",
    "                                          shuffle=True, num_workers=2)\n",
    "\n",
    "testloader = torch.utils.data.DataLoader(testset, batch_size=256,\n",
    "                                         shuffle=False, num_workers=2)\n",
    "\n",
    "classes = ('plane', 'car', 'bird', 'cat','deer', \n",
    "           'dog', 'frog', 'horse', 'ship', 'truck')\n",
    "\n",
    "class_list = []\n",
    "for i in classes:\n",
    "    class_list.append(i)"
   ]
  },
  {
   "cell_type": "code",
   "execution_count": 3,
   "metadata": {},
   "outputs": [],
   "source": [
    "# Reference: https://pytorch.org/tutorials/beginner/blitz/cifar10_tutorial.html\n",
    "\n",
    "# functions to show an image\n",
    "def imshow(img):\n",
    "    img = img / 2 + 0.5     # unnormalize\n",
    "    npimg = img.numpy()\n",
    "    plt.imshow(np.transpose(npimg, (1, 2, 0)))\n",
    "    plt.show()\n",
    "\n",
    "\n",
    "# get some random training images\n",
    "dataiter = iter(trainloader)\n",
    "images, labels = dataiter.next()\n",
    "\n",
    "# show images\n",
    "# imshow(torchvision.utils.make_grid(images))\n",
    "\n",
    "# print labels\n",
    "# print(' '.join('%5s' % classes[labels[j]] for j in range(4)))"
   ]
  },
  {
   "cell_type": "code",
   "execution_count": 4,
   "metadata": {},
   "outputs": [],
   "source": [
    "# Reference: https://pytorch.org/tutorials/beginner/finetuning_torchvision_models_tutorial.html\n",
    "\n",
    "# Data directory\n",
    "data_dir = \"./data\"\n",
    "\n",
    "# Model to be using\n",
    "model_name = \"resnet18\"\n",
    "\n",
    "# \"Number of classes in the dataset\"\n",
    "num_classes = 10\n",
    "\n",
    "# \"Number of epochs to train for\"\n",
    "num_epochs = 20\n",
    "\n",
    "# \"Flag for feature extracting. When False, we finetune the whole model,\n",
    "# when True we only update the reshaped layer params\"\n",
    "feature_extract = False"
   ]
  },
  {
   "cell_type": "code",
   "execution_count": 5,
   "metadata": {},
   "outputs": [],
   "source": [
    "# Reference: https://pytorch.org/tutorials/beginner/finetuning_torchvision_models_tutorial.html\n",
    "\n",
    "def set_parameter_requires_grad(model, feature_extracting):\n",
    "    if feature_extracting:\n",
    "        for param in model.parameters():\n",
    "            param.requires_grad = False"
   ]
  },
  {
   "cell_type": "code",
   "execution_count": 6,
   "metadata": {},
   "outputs": [],
   "source": [
    "# Reference: https://pytorch.org/tutorials/beginner/finetuning_torchvision_models_tutorial.html\n",
    "\n",
    "def initialize_model(model_name, num_classes, feature_extract, use_pretrained=True):\n",
    "    # Initialize these variables which will be set in this if statement. Each of these\n",
    "    #   variables is model specific.\n",
    "    model_ft = None\n",
    "    input_size = 0\n",
    "\n",
    "    if model_name == \"resnet18\":\n",
    "        \"\"\" Resnet18\n",
    "        \"\"\"\n",
    "        model_ft = models.resnet18(pretrained=use_pretrained)\n",
    "        set_parameter_requires_grad(model_ft, feature_extract)\n",
    "        num_ftrs = model_ft.fc.in_features\n",
    "        model_ft.fc = nn.Linear(512, num_classes)\n",
    "        input_size = 224\n",
    "        \n",
    "    else:\n",
    "        print(\"Invalid model name, exiting...\")\n",
    "        exit()\n",
    "\n",
    "    return model_ft, input_size\n",
    "\n",
    "# #Initialize the model for this run#\n",
    "model_ft, input_size = initialize_model(model_name, num_classes, feature_extract,\n",
    "                                        use_pretrained=True)\n",
    "\n",
    "# #Print the model we just instantiated#\n",
    "# print(model_ft)"
   ]
  },
  {
   "cell_type": "code",
   "execution_count": 7,
   "metadata": {},
   "outputs": [],
   "source": [
    "# References: https://pytorch.org/tutorials/beginner/finetuning_torchvision_models_tutorial.html\n",
    "#             https://blog.paperspace.com/pytorch-101-building-neural-networks/\n",
    "#             https://pytorch.org/tutorials/beginner/transfer_learning_tutorial.html\n",
    "\n",
    "def train_model(model, trainloader, testloader, criterion, optimizer, num_epochs):\n",
    "    \n",
    "    epoch_losses = []\n",
    "    epoch_acc = []\n",
    "    \n",
    "    for epoch in range(num_epochs):\n",
    "        print('Epoch {}/{}'.format(epoch + 1, num_epochs))\n",
    "        print('-' * 10)\n",
    "        epoch_loss = 0.0\n",
    "        losses = []\n",
    "        \n",
    "        # Train\n",
    "        start = time.time()\n",
    "        for batch_idx, data in enumerate(trainloader):\n",
    "            inputs, targets = data\n",
    "\n",
    "            optimizer.zero_grad()                 # Zero the gradients\n",
    "\n",
    "            outputs = model(inputs)               # Forward pass\n",
    "            loss = criterion(outputs, targets)    # Compute the Loss\n",
    "            loss.backward()                       # Compute the Gradients\n",
    "            optimizer.step()                      # Updated the weights\n",
    "            \n",
    "            losses.append(loss.item())\n",
    "            end = time.time()\n",
    "                \n",
    "        epoch_loss += outputs.shape[0] * loss.item()\n",
    "        epoch_losses.append(epoch_loss/len(trainset))\n",
    "        print('Train loss : %.3f' % (epoch_loss))\n",
    "        \n",
    "        # Evaluate\n",
    "        model.eval()\n",
    "        total = 0\n",
    "        correct = 0\n",
    "\n",
    "        with torch.no_grad():\n",
    "            for batch_idx, data in enumerate(testloader):\n",
    "                inputs, targets = data\n",
    "\n",
    "                outputs = model(inputs)\n",
    "                _, predicted = torch.max(outputs.data, 1)\n",
    "                total += targets.size(0)\n",
    "                correct += predicted.eq(targets.data).cpu().sum()\n",
    "\n",
    "            epoch_acc.append(100.*correct/total)\n",
    "            print('Test Acc : %.3f' % (100.*correct/total))\n",
    "            print('--------------------------------------------------------------')\n",
    "        model.train() \n",
    "        \n",
    "    return model, epoch_losses, epoch_acc"
   ]
  },
  {
   "cell_type": "code",
   "execution_count": 8,
   "metadata": {},
   "outputs": [
    {
     "name": "stdout",
     "output_type": "stream",
     "text": [
      "Params to learn:\n",
      "\t conv1.weight\n",
      "\t bn1.weight\n",
      "\t bn1.bias\n",
      "\t layer1.0.conv1.weight\n",
      "\t layer1.0.bn1.weight\n",
      "\t layer1.0.bn1.bias\n",
      "\t layer1.0.conv2.weight\n",
      "\t layer1.0.bn2.weight\n",
      "\t layer1.0.bn2.bias\n",
      "\t layer1.1.conv1.weight\n",
      "\t layer1.1.bn1.weight\n",
      "\t layer1.1.bn1.bias\n",
      "\t layer1.1.conv2.weight\n",
      "\t layer1.1.bn2.weight\n",
      "\t layer1.1.bn2.bias\n",
      "\t layer2.0.conv1.weight\n",
      "\t layer2.0.bn1.weight\n",
      "\t layer2.0.bn1.bias\n",
      "\t layer2.0.conv2.weight\n",
      "\t layer2.0.bn2.weight\n",
      "\t layer2.0.bn2.bias\n",
      "\t layer2.0.downsample.0.weight\n",
      "\t layer2.0.downsample.1.weight\n",
      "\t layer2.0.downsample.1.bias\n",
      "\t layer2.1.conv1.weight\n",
      "\t layer2.1.bn1.weight\n",
      "\t layer2.1.bn1.bias\n",
      "\t layer2.1.conv2.weight\n",
      "\t layer2.1.bn2.weight\n",
      "\t layer2.1.bn2.bias\n",
      "\t layer3.0.conv1.weight\n",
      "\t layer3.0.bn1.weight\n",
      "\t layer3.0.bn1.bias\n",
      "\t layer3.0.conv2.weight\n",
      "\t layer3.0.bn2.weight\n",
      "\t layer3.0.bn2.bias\n",
      "\t layer3.0.downsample.0.weight\n",
      "\t layer3.0.downsample.1.weight\n",
      "\t layer3.0.downsample.1.bias\n",
      "\t layer3.1.conv1.weight\n",
      "\t layer3.1.bn1.weight\n",
      "\t layer3.1.bn1.bias\n",
      "\t layer3.1.conv2.weight\n",
      "\t layer3.1.bn2.weight\n",
      "\t layer3.1.bn2.bias\n",
      "\t layer4.0.conv1.weight\n",
      "\t layer4.0.bn1.weight\n",
      "\t layer4.0.bn1.bias\n",
      "\t layer4.0.conv2.weight\n",
      "\t layer4.0.bn2.weight\n",
      "\t layer4.0.bn2.bias\n",
      "\t layer4.0.downsample.0.weight\n",
      "\t layer4.0.downsample.1.weight\n",
      "\t layer4.0.downsample.1.bias\n",
      "\t layer4.1.conv1.weight\n",
      "\t layer4.1.bn1.weight\n",
      "\t layer4.1.bn1.bias\n",
      "\t layer4.1.conv2.weight\n",
      "\t layer4.1.bn2.weight\n",
      "\t layer4.1.bn2.bias\n",
      "\t fc.weight\n",
      "\t fc.bias\n"
     ]
    }
   ],
   "source": [
    "# References: https://pytorch.org/tutorials/beginner/finetuning_torchvision_models_tutorial.html\n",
    "#             https://pytorch.org/tutorials/beginner/transfer_learning_tutorial.html\n",
    "\n",
    "params_to_update = model_ft.parameters()\n",
    "print(\"Params to learn:\")\n",
    "if feature_extract:\n",
    "    params_to_update = []\n",
    "    for name,param in model_ft.named_parameters():\n",
    "        if param.requires_grad == True:\n",
    "            params_to_update.append(param)\n",
    "            print(\"\\t\",name)\n",
    "else:\n",
    "    for name,param in model_ft.named_parameters():\n",
    "        if param.requires_grad == True:\n",
    "            print(\"\\t\",name)\n",
    "\n",
    "# Setup optimizer\n",
    "optimizer_ft = optim.SGD(params_to_update, lr=0.001, momentum=0.9)\n",
    "\n",
    "# Setup the loss function\n",
    "criterion = nn.CrossEntropyLoss()"
   ]
  },
  {
   "cell_type": "code",
   "execution_count": 75,
   "metadata": {},
   "outputs": [],
   "source": [
    "def gen_accuracy(model):\n",
    "    # Calculates the network's performance on the whole dataset\n",
    "    correct = 0\n",
    "    total = 0\n",
    "    with torch.no_grad():\n",
    "        for data in testloader:\n",
    "            images, labels = data\n",
    "            outputs = model(images)\n",
    "            _, predicted = torch.max(outputs.data, 1)\n",
    "            total += labels.size(0)\n",
    "            correct += (predicted == labels).sum().item()\n",
    "\n",
    "    print('Accuracy of the network on the 10000 test images: %d %%' % (\n",
    "        100 * correct / total))\n",
    "    \n",
    "    acc = 100 * correct / total\n",
    "    \n",
    "    return acc"
   ]
  },
  {
   "cell_type": "code",
   "execution_count": 10,
   "metadata": {},
   "outputs": [],
   "source": [
    "def accuracies(model):\n",
    "    # Calculates the network's performance across all classes\n",
    "    class_correct = list(0. for i in range(10))\n",
    "    class_total = list(0. for i in range(10))\n",
    "    with torch.no_grad():\n",
    "        for data in testloader:\n",
    "            images, labels = data\n",
    "            outputs = model(images)\n",
    "            _, predicted = torch.max(outputs, 1)\n",
    "            c = (predicted == labels).squeeze()\n",
    "            for i in range(4):\n",
    "                label = labels[i]\n",
    "                class_correct[label] += c[i].item()\n",
    "                class_total[label] += 1\n",
    "\n",
    "    acc_hist = []\n",
    "    print(\"Accuracy of the network on the 10 classes\")\n",
    "    for i in range(10):\n",
    "        print('Accuracy of %5s : %2d %%' % (\n",
    "            classes[i], 100 * class_correct[i] / class_total[i]))\n",
    "        acc_hist.append(100 * class_correct[i] / class_total[i])\n",
    "        \n",
    "    return acc_hist"
   ]
  },
  {
   "cell_type": "code",
   "execution_count": 12,
   "metadata": {},
   "outputs": [],
   "source": [
    "# functions that plot the training losses and test accuracies vs. epochs.\n",
    "def plot_losses(losses):\n",
    "    plt.plot(epoch_losses)\n",
    "    plt.xlabel('Epochs')\n",
    "    plt.ylabel('Train losses')\n",
    "    plt.show()\n",
    "    \n",
    "def plot_acc(acc):\n",
    "    plt.plot(acc)\n",
    "    plt.xlabel('Epochs')\n",
    "    plt.ylabel('Test Accuracy')\n",
    "    plt.show()"
   ]
  },
  {
   "cell_type": "code",
   "execution_count": 11,
   "metadata": {},
   "outputs": [
    {
     "name": "stdout",
     "output_type": "stream",
     "text": [
      "Epoch 1/20\n",
      "----------\n",
      "Train loss : 99.340\n",
      "Test Acc : 66.330\n",
      "--------------------------------------------------------------\n",
      "Epoch 2/20\n",
      "----------\n",
      "Train loss : 63.691\n",
      "Test Acc : 71.260\n",
      "--------------------------------------------------------------\n",
      "Epoch 3/20\n",
      "----------\n",
      "Train loss : 44.705\n",
      "Test Acc : 73.360\n",
      "--------------------------------------------------------------\n",
      "Epoch 4/20\n",
      "----------\n",
      "Train loss : 44.613\n",
      "Test Acc : 74.710\n",
      "--------------------------------------------------------------\n",
      "Epoch 5/20\n",
      "----------\n",
      "Train loss : 53.593\n",
      "Test Acc : 75.470\n",
      "--------------------------------------------------------------\n",
      "Epoch 6/20\n",
      "----------\n",
      "Train loss : 42.361\n",
      "Test Acc : 75.790\n",
      "--------------------------------------------------------------\n",
      "Epoch 7/20\n",
      "----------\n",
      "Train loss : 21.527\n",
      "Test Acc : 75.570\n",
      "--------------------------------------------------------------\n",
      "Epoch 8/20\n",
      "----------\n",
      "Train loss : 28.763\n",
      "Test Acc : 76.050\n",
      "--------------------------------------------------------------\n",
      "Epoch 9/20\n",
      "----------\n",
      "Train loss : 19.947\n",
      "Test Acc : 75.930\n",
      "--------------------------------------------------------------\n",
      "Epoch 10/20\n",
      "----------\n",
      "Train loss : 15.623\n",
      "Test Acc : 76.150\n",
      "--------------------------------------------------------------\n",
      "Epoch 11/20\n",
      "----------\n",
      "Train loss : 21.859\n",
      "Test Acc : 76.020\n",
      "--------------------------------------------------------------\n",
      "Epoch 12/20\n",
      "----------\n",
      "Train loss : 10.200\n",
      "Test Acc : 76.550\n",
      "--------------------------------------------------------------\n",
      "Epoch 13/20\n",
      "----------\n",
      "Train loss : 11.541\n",
      "Test Acc : 76.050\n",
      "--------------------------------------------------------------\n",
      "Epoch 14/20\n",
      "----------\n",
      "Train loss : 14.000\n",
      "Test Acc : 76.430\n",
      "--------------------------------------------------------------\n",
      "Epoch 15/20\n",
      "----------\n",
      "Train loss : 7.747\n",
      "Test Acc : 76.230\n",
      "--------------------------------------------------------------\n",
      "Epoch 16/20\n",
      "----------\n",
      "Train loss : 9.074\n",
      "Test Acc : 76.310\n",
      "--------------------------------------------------------------\n",
      "Epoch 17/20\n",
      "----------\n",
      "Train loss : 3.141\n",
      "Test Acc : 76.660\n",
      "--------------------------------------------------------------\n",
      "Epoch 18/20\n",
      "----------\n",
      "Train loss : 5.159\n",
      "Test Acc : 76.740\n",
      "--------------------------------------------------------------\n",
      "Epoch 19/20\n",
      "----------\n",
      "Train loss : 12.485\n",
      "Test Acc : 76.780\n",
      "--------------------------------------------------------------\n",
      "Epoch 20/20\n",
      "----------\n",
      "Train loss : 2.555\n",
      "Test Acc : 76.510\n",
      "--------------------------------------------------------------\n"
     ]
    }
   ],
   "source": [
    "# Reference: https://pytorch.org/tutorials/beginner/finetuning_torchvision_models_tutorial.html\n",
    "\n",
    "# Train and evaluate\n",
    "model_ft, epoch_losses, epoch_acc = train_model(model_ft, trainloader, \n",
    "                                                testloader, criterion, \n",
    "                                                optimizer_ft, num_epochs=num_epochs)"
   ]
  },
  {
   "cell_type": "code",
   "execution_count": 13,
   "metadata": {},
   "outputs": [
    {
     "data": {
      "image/png": "[encoded data removed]",
      "text/plain": [
       "<Figure size 432x288 with 1 Axes>"
      ]
     },
     "metadata": {
      "needs_background": "light"
     },
     "output_type": "display_data"
    }
   ],
   "source": [
    "plot_losses(epoch_losses)"
   ]
  },
  {
   "cell_type": "code",
   "execution_count": 14,
   "metadata": {},
   "outputs": [
    {
     "data": {
      "image/png": "[encoded data removed]",
      "text/plain": [
       "<Figure size 432x288 with 1 Axes>"
      ]
     },
     "metadata": {
      "needs_background": "light"
     },
     "output_type": "display_data"
    }
   ],
   "source": [
    "plot_acc(epoch_acc)"
   ]
  },
  {
   "cell_type": "code",
   "execution_count": 107,
   "metadata": {},
   "outputs": [
    {
     "name": "stdout",
     "output_type": "stream",
     "text": [
      "Accuracy of the network on the 10000 test images: 75 %\n"
     ]
    }
   ],
   "source": [
    "# print model's overall accuracy\n",
    "original_acc = gen_accuracy(model_ft)"
   ]
  },
  {
   "cell_type": "code",
   "execution_count": 16,
   "metadata": {},
   "outputs": [
    {
     "name": "stdout",
     "output_type": "stream",
     "text": [
      "Accuracy of the network on the 10 classes\n",
      "Accuracy of plane : 68 %\n",
      "Accuracy of   car : 100 %\n",
      "Accuracy of  bird : 92 %\n",
      "Accuracy of   cat : 45 %\n",
      "Accuracy of  deer : 69 %\n",
      "Accuracy of   dog : 53 %\n",
      "Accuracy of  frog : 72 %\n",
      "Accuracy of horse : 83 %\n",
      "Accuracy of  ship : 85 %\n",
      "Accuracy of truck : 88 %\n"
     ]
    }
   ],
   "source": [
    "# print model's accuracy across different classes\n",
    "acc_hist = accuracies(model_ft)"
   ]
  },
  {
   "cell_type": "code",
   "execution_count": 17,
   "metadata": {},
   "outputs": [
    {
     "data": {
      "image/png": "[encoded data removed]",
      "text/plain": [
       "<Figure size 432x288 with 1 Axes>"
      ]
     },
     "metadata": {
      "needs_background": "light"
     },
     "output_type": "display_data"
    }
   ],
   "source": [
    "# barplot displaying model's performance\n",
    "ax = sns.barplot(x=acc_hist, y=class_list)"
   ]
  },
  {
   "cell_type": "code",
   "execution_count": 18,
   "metadata": {},
   "outputs": [],
   "source": [
    "# Save model\n",
    "PATH = './cifar_net.pth'\n",
    "torch.save(model_ft.state_dict(), PATH)"
   ]
  },
  {
   "cell_type": "code",
   "execution_count": 20,
   "metadata": {},
   "outputs": [
    {
     "data": {
      "text/plain": [
       "<All keys matched successfully>"
      ]
     },
     "execution_count": 20,
     "metadata": {},
     "output_type": "execute_result"
    }
   ],
   "source": [
    "# load model\n",
    "# model_ft.load_state_dict(torch.load(PATH))"
   ]
  },
  {
   "cell_type": "code",
   "execution_count": 24,
   "metadata": {},
   "outputs": [],
   "source": [
    "# save the model's state_dict into a variable\n",
    "state_dict = model_ft.state_dict()"
   ]
  },
  {
   "cell_type": "markdown",
   "metadata": {},
   "source": [
    "### Model's Architecture\n",
    "Below we explore layer dimensions in order to select layers and sublayers to be modified in the Experiments Section."
   ]
  },
  {
   "cell_type": "code",
   "execution_count": 25,
   "metadata": {},
   "outputs": [
    {
     "name": "stdout",
     "output_type": "stream",
     "text": [
      "Conv1.weight: 64 3 7 7\n",
      "bn1.weight 64\n",
      "bn1.bias 64\n"
     ]
    }
   ],
   "source": [
    "layer = state_dict['conv1.weight']\n",
    "bn1_weight = state_dict['bn1.weight']\n",
    "bn1_bias = state_dict['bn1.bias']\n",
    "\n",
    "print('Conv1.weight:', len(layer), len(layer[0]),  len(layer[0][0]), len(layer[0][0][0]))\n",
    "print('bn1.weight', len(bn1_weight))\n",
    "print('bn1.bias', len(bn1_bias))"
   ]
  },
  {
   "cell_type": "markdown",
   "metadata": {},
   "source": [
    "### Layer 1"
   ]
  },
  {
   "cell_type": "code",
   "execution_count": 26,
   "metadata": {},
   "outputs": [
    {
     "name": "stdout",
     "output_type": "stream",
     "text": [
      "Conv1\n",
      "layer 1.0: 64 64 3 3\n",
      "layer 1.1: 64 64 3 3\n",
      "\n",
      "Conv2\n",
      "layer 1.0: 64 64 3 3\n",
      "layer 1.1: 64 64 3 3\n"
     ]
    }
   ],
   "source": [
    "print(\"Conv1\")\n",
    "layer1_0 = state_dict['layer1.0.conv1.weight']\n",
    "layer1_1 = state_dict['layer1.1.conv1.weight']\n",
    "\n",
    "print('layer 1.0:', len(layer1_0), len(layer1_0[0]),  len(layer1_0[0][0]), len(layer1_0[0][0][0]))\n",
    "print('layer 1.1:', len(layer1_1), len(layer1_1[0]),  len(layer1_1[0][0]), len(layer1_1[0][0][0]))\n",
    "print()\n",
    "\n",
    "print(\"Conv2\")\n",
    "layer1_0 = state_dict['layer1.0.conv2.weight']\n",
    "layer1_1 = state_dict['layer1.1.conv2.weight']\n",
    "\n",
    "print('layer 1.0:', len(layer1_0), len(layer1_0[0]),  len(layer1_0[0][0]), len(layer1_0[0][0][0]))\n",
    "print('layer 1.1:', len(layer1_1), len(layer1_1[0]),  len(layer1_1[0][0]), len(layer1_1[0][0][0]))"
   ]
  },
  {
   "cell_type": "markdown",
   "metadata": {},
   "source": [
    "### Layer 2"
   ]
  },
  {
   "cell_type": "code",
   "execution_count": 27,
   "metadata": {},
   "outputs": [
    {
     "name": "stdout",
     "output_type": "stream",
     "text": [
      "Conv1\n",
      "layer 2.0: 128 64 3 3\n",
      "layer 2.1: 128 128 3 3\n",
      "\n",
      "Conv2\n",
      "layer 2.0: 128 128 3 3\n",
      "layer 2.1: 128 128 3 3\n"
     ]
    }
   ],
   "source": [
    "print(\"Conv1\")\n",
    "layer2_0 = state_dict['layer2.0.conv1.weight']\n",
    "layer2_1 = state_dict['layer2.1.conv1.weight']\n",
    "\n",
    "print('layer 2.0:', len(layer2_0), len(layer2_0[0]),  len(layer2_0[0][0]), len(layer2_0[0][0][0]))\n",
    "print('layer 2.1:', len(layer2_1), len(layer2_1[0]),  len(layer2_1[0][0]), len(layer2_1[0][0][0]))\n",
    "print()\n",
    "\n",
    "print(\"Conv2\")\n",
    "layer2_0 = state_dict['layer2.0.conv2.weight']\n",
    "layer2_1 = state_dict['layer2.1.conv2.weight']\n",
    "\n",
    "print('layer 2.0:', len(layer2_0), len(layer2_0[0]),  len(layer2_0[0][0]), len(layer2_0[0][0][0]))\n",
    "print('layer 2.1:', len(layer2_1), len(layer2_1[0]),  len(layer2_1[0][0]), len(layer2_1[0][0][0]))"
   ]
  },
  {
   "cell_type": "markdown",
   "metadata": {},
   "source": [
    "### Layer 3"
   ]
  },
  {
   "cell_type": "code",
   "execution_count": 28,
   "metadata": {},
   "outputs": [
    {
     "name": "stdout",
     "output_type": "stream",
     "text": [
      "Conv1\n",
      "layer 3.0: 256 128 3 3\n",
      "layer 3.1: 256 256 3 3\n",
      "\n",
      "Conv2\n",
      "layer 3.0: 256 256 3 3\n",
      "layer 3.1: 256 256 3 3\n"
     ]
    }
   ],
   "source": [
    "print(\"Conv1\")\n",
    "layer3_0 = state_dict['layer3.0.conv1.weight']\n",
    "layer3_1 = state_dict['layer3.1.conv1.weight']\n",
    "\n",
    "print('layer 3.0:', len(layer3_0), len(layer3_0[0]),  len(layer3_0[0][0]), len(layer3_0[0][0][0]))\n",
    "print('layer 3.1:', len(layer3_1), len(layer3_1[0]),  len(layer3_1[0][0]), len(layer3_1[0][0][0]))\n",
    "print()\n",
    "\n",
    "print(\"Conv2\")\n",
    "layer3_0 = state_dict['layer3.0.conv2.weight']\n",
    "layer3_1 = state_dict['layer3.1.conv2.weight']\n",
    "\n",
    "print('layer 3.0:', len(layer3_0), len(layer3_0[0]),  len(layer3_0[0][0]), len(layer3_0[0][0][0]))\n",
    "print('layer 3.1:', len(layer3_1), len(layer3_1[0]),  len(layer3_1[0][0]), len(layer3_1[0][0][0]))"
   ]
  },
  {
   "cell_type": "markdown",
   "metadata": {},
   "source": [
    "### Layer 4"
   ]
  },
  {
   "cell_type": "code",
   "execution_count": 29,
   "metadata": {},
   "outputs": [
    {
     "name": "stdout",
     "output_type": "stream",
     "text": [
      "Conv1\n",
      "layer 4.0: 512 256 3 3\n",
      "layer 4.1: 512 512 3 3\n",
      "\n",
      "Conv2\n",
      "layer 4.0: 512 512 3 3\n",
      "layer 4.1: 512 512 3 3\n"
     ]
    }
   ],
   "source": [
    "print(\"Conv1\")\n",
    "layer4_0 = state_dict['layer4.0.conv1.weight']\n",
    "layer4_1 = state_dict['layer4.1.conv1.weight']\n",
    "\n",
    "print('layer 4.0:', len(layer4_0), len(layer4_0[0]),  len(layer4_0[0][0]), len(layer4_0[0][0][0]))\n",
    "print('layer 4.1:', len(layer4_1), len(layer4_1[0]),  len(layer4_1[0][0]), len(layer4_1[0][0][0]))\n",
    "print()\n",
    "\n",
    "print(\"Conv2\")\n",
    "layer4_0 = state_dict['layer4.0.conv2.weight']\n",
    "layer4_1 = state_dict['layer4.1.conv2.weight']\n",
    "\n",
    "print('layer 4.0:', len(layer4_0), len(layer4_0[0]),  len(layer4_0[0][0]), len(layer4_0[0][0][0]))\n",
    "print('layer 4.1:', len(layer4_1), len(layer4_1[0]),  len(layer4_1[0][0]), len(layer4_1[0][0][0]))"
   ]
  },
  {
   "cell_type": "markdown",
   "metadata": {},
   "source": [
    "## Experiments Section"
   ]
  },
  {
   "cell_type": "markdown",
   "metadata": {},
   "source": [
    "### Deep copy model before manipulation\n",
    "This will prevent the original model's weights to be modified when running the experiments."
   ]
  },
  {
   "cell_type": "code",
   "execution_count": 30,
   "metadata": {},
   "outputs": [],
   "source": [
    "manipulated_model1 = copy.deepcopy(model_ft)\n",
    "manipulated_model2 = copy.deepcopy(model_ft)\n",
    "manipulated_model3 = copy.deepcopy(model_ft)\n",
    "manipulated_model4 = copy.deepcopy(model_ft)\n",
    "\n",
    "# stores state_dict of all soon-to-be manipulated models\n",
    "manipulated_dict1 = manipulated_model1.state_dict()\n",
    "manipulated_dict2 = manipulated_model2.state_dict()\n",
    "manipulated_dict3 = manipulated_model3.state_dict()\n",
    "manipulated_dict4 = manipulated_model4.state_dict()"
   ]
  },
  {
   "cell_type": "code",
   "execution_count": 54,
   "metadata": {},
   "outputs": [],
   "source": [
    "# creates ablated layers (all weights = 0), which will be inserted \n",
    "# in appropriate sublayers or layers later on.\n",
    "ablation_layer1 = torch.zeros(64, 64, 3, 3)\n",
    "ablation_layer2 = torch.zeros(128, 128, 3, 3)\n",
    "ablation_layer3 = torch.zeros(256, 256, 3, 3)\n",
    "ablation_layer4 = torch.zeros(512, 512, 3, 3)"
   ]
  },
  {
   "cell_type": "markdown",
   "metadata": {},
   "source": [
    "## Ablation of *layern.0.conv2.weight*\n",
    "### Ablation: Layer 1"
   ]
  },
  {
   "cell_type": "code",
   "execution_count": 45,
   "metadata": {},
   "outputs": [
    {
     "data": {
      "text/plain": [
       "<All keys matched successfully>"
      ]
     },
     "execution_count": 45,
     "metadata": {},
     "output_type": "execute_result"
    }
   ],
   "source": [
    "# ablate layer 1\n",
    "manipulated_dict1['layer1.0.conv2.weight'] = ablation_layer1\n",
    "\n",
    "# sanity check\n",
    "# manipulated_dict1['layer1.0.conv2.weight']\n",
    "\n",
    "# load ablated model\n",
    "manipulated_model1.load_state_dict(manipulated_dict1)\n",
    "\n",
    "# sanity check\n",
    "# manipulated_model1.state_dict()"
   ]
  },
  {
   "cell_type": "code",
   "execution_count": 76,
   "metadata": {},
   "outputs": [
    {
     "name": "stdout",
     "output_type": "stream",
     "text": [
      "Accuracy of the network on the 10000 test images: 66 %\n",
      "\n",
      "Accuracy of the network on the 10 classes\n",
      "Accuracy of plane : 56 %\n",
      "Accuracy of   car : 84 %\n",
      "Accuracy of  bird : 76 %\n",
      "Accuracy of   cat : 40 %\n",
      "Accuracy of  deer : 61 %\n",
      "Accuracy of   dog : 26 %\n",
      "Accuracy of  frog : 66 %\n",
      "Accuracy of horse : 66 %\n",
      "Accuracy of  ship : 76 %\n",
      "Accuracy of truck : 82 %\n"
     ]
    }
   ],
   "source": [
    "# prints overall and class-specific accuracies\n",
    "gen_acc1 = gen_accuracy(manipulated_model1)\n",
    "print()\n",
    "acc_hist1 = accuracies(manipulated_model1)"
   ]
  },
  {
   "cell_type": "code",
   "execution_count": 59,
   "metadata": {},
   "outputs": [
    {
     "data": {
      "image/png": "[encoded data removed]",
      "text/plain": [
       "<Figure size 432x288 with 1 Axes>"
      ]
     },
     "metadata": {
      "needs_background": "light"
     },
     "output_type": "display_data"
    }
   ],
   "source": [
    "# barplot with class-specific accuracies.\n",
    "# x-axis = % accuracy\n",
    "ax1 = sns.barplot(x=acc_hist1, y=class_list)"
   ]
  },
  {
   "cell_type": "markdown",
   "metadata": {},
   "source": [
    "### Ablation: Layer 2"
   ]
  },
  {
   "cell_type": "code",
   "execution_count": 56,
   "metadata": {},
   "outputs": [
    {
     "data": {
      "text/plain": [
       "<All keys matched successfully>"
      ]
     },
     "execution_count": 56,
     "metadata": {},
     "output_type": "execute_result"
    }
   ],
   "source": [
    "# ablate layer 2\n",
    "manipulated_dict2['layer2.0.conv2.weight'] = ablation_layer2\n",
    "\n",
    "# sanity check\n",
    "# manipulated_dict2['layer2.0.conv2.weight']\n",
    "\n",
    "# load ablated model\n",
    "manipulated_model2.load_state_dict(manipulated_dict2)\n",
    "\n",
    "# sanity check\n",
    "# manipulated_model2.state_dict()"
   ]
  },
  {
   "cell_type": "code",
   "execution_count": 78,
   "metadata": {},
   "outputs": [
    {
     "name": "stdout",
     "output_type": "stream",
     "text": [
      "Accuracy of the network on the 10000 test images: 59 %\n",
      "\n",
      "Accuracy of the network on the 10 classes\n",
      "Accuracy of plane : 50 %\n",
      "Accuracy of   car : 61 %\n",
      "Accuracy of  bird : 69 %\n",
      "Accuracy of   cat : 22 %\n",
      "Accuracy of  deer : 53 %\n",
      "Accuracy of   dog : 46 %\n",
      "Accuracy of  frog : 55 %\n",
      "Accuracy of horse : 50 %\n",
      "Accuracy of  ship : 71 %\n",
      "Accuracy of truck : 70 %\n"
     ]
    }
   ],
   "source": [
    "# prints overall and class-specific accuracies\n",
    "gen_acc2 = gen_accuracy(manipulated_model2)\n",
    "print()\n",
    "acc_hist2 = accuracies(manipulated_model2)"
   ]
  },
  {
   "cell_type": "code",
   "execution_count": 58,
   "metadata": {},
   "outputs": [
    {
     "data": {
      "image/png": "[encoded data removed]",
      "text/plain": [
       "<Figure size 432x288 with 1 Axes>"
      ]
     },
     "metadata": {
      "needs_background": "light"
     },
     "output_type": "display_data"
    }
   ],
   "source": [
    "# barplot with class-specific accuracies.\n",
    "# x-axis = % accuracy\n",
    "ax2 = sns.barplot(x=acc_hist2, y=class_list)"
   ]
  },
  {
   "cell_type": "markdown",
   "metadata": {},
   "source": [
    "### Ablation: Layer 3"
   ]
  },
  {
   "cell_type": "code",
   "execution_count": 61,
   "metadata": {},
   "outputs": [
    {
     "data": {
      "text/plain": [
       "<All keys matched successfully>"
      ]
     },
     "execution_count": 61,
     "metadata": {},
     "output_type": "execute_result"
    }
   ],
   "source": [
    "# ablate layer 3\n",
    "manipulated_dict3['layer3.0.conv2.weight'] = ablation_layer3\n",
    "\n",
    "# sanity check\n",
    "# manipulated_dict3['layer3.0.conv2.weight']\n",
    "\n",
    "# load ablated model\n",
    "manipulated_model3.load_state_dict(manipulated_dict3)\n",
    "\n",
    "# sanity check\n",
    "# manipulated_model3.state_dict()"
   ]
  },
  {
   "cell_type": "code",
   "execution_count": 79,
   "metadata": {},
   "outputs": [
    {
     "name": "stdout",
     "output_type": "stream",
     "text": [
      "Accuracy of the network on the 10000 test images: 33 %\n",
      "\n",
      "Accuracy of the network on the 10 classes\n",
      "Accuracy of plane : 31 %\n",
      "Accuracy of   car : 38 %\n",
      "Accuracy of  bird : 61 %\n",
      "Accuracy of   cat : 22 %\n",
      "Accuracy of  deer : 15 %\n",
      "Accuracy of   dog : 13 %\n",
      "Accuracy of  frog : 27 %\n",
      "Accuracy of horse : 50 %\n",
      "Accuracy of  ship : 42 %\n",
      "Accuracy of truck : 23 %\n"
     ]
    }
   ],
   "source": [
    "# prints overall and class-specific accuracies\n",
    "gen_acc3 = gen_accuracy(manipulated_model3)\n",
    "print()\n",
    "acc_hist3 = accuracies(manipulated_model3)"
   ]
  },
  {
   "cell_type": "code",
   "execution_count": 64,
   "metadata": {},
   "outputs": [
    {
     "data": {
      "image/png": "[encoded data removed]",
      "text/plain": [
       "<Figure size 432x288 with 1 Axes>"
      ]
     },
     "metadata": {
      "needs_background": "light"
     },
     "output_type": "display_data"
    }
   ],
   "source": [
    "# barplot with class-specific accuracies.\n",
    "# x-axis = % accuracy\n",
    "ax3 = sns.barplot(x=acc_hist3, y=class_list)"
   ]
  },
  {
   "cell_type": "markdown",
   "metadata": {},
   "source": [
    "### Ablation: Layer 4"
   ]
  },
  {
   "cell_type": "code",
   "execution_count": 65,
   "metadata": {},
   "outputs": [
    {
     "data": {
      "text/plain": [
       "<All keys matched successfully>"
      ]
     },
     "execution_count": 65,
     "metadata": {},
     "output_type": "execute_result"
    }
   ],
   "source": [
    "# ablate layer 4\n",
    "manipulated_dict4['layer4.0.conv2.weight'] = ablation_layer4\n",
    "\n",
    "# sanity check\n",
    "# manipulated_dict4['layer4.0.conv2.weight']\n",
    "\n",
    "# load ablated model\n",
    "manipulated_model4.load_state_dict(manipulated_dict4)\n",
    "\n",
    "# sanity check\n",
    "# manipulated_model4.state_dict()"
   ]
  },
  {
   "cell_type": "code",
   "execution_count": 80,
   "metadata": {},
   "outputs": [
    {
     "name": "stdout",
     "output_type": "stream",
     "text": [
      "Accuracy of the network on the 10000 test images: 53 %\n",
      "\n",
      "Accuracy of the network on the 10 classes\n",
      "Accuracy of plane : 56 %\n",
      "Accuracy of   car : 69 %\n",
      "Accuracy of  bird : 46 %\n",
      "Accuracy of   cat : 31 %\n",
      "Accuracy of  deer : 53 %\n",
      "Accuracy of   dog : 20 %\n",
      "Accuracy of  frog : 61 %\n",
      "Accuracy of horse : 41 %\n",
      "Accuracy of  ship : 42 %\n",
      "Accuracy of truck : 70 %\n"
     ]
    }
   ],
   "source": [
    "# prints overall and class-specific accuracies\n",
    "gen_acc4 = gen_accuracy(manipulated_model4)\n",
    "print()\n",
    "acc_hist4 = accuracies(manipulated_model4)"
   ]
  },
  {
   "cell_type": "code",
   "execution_count": 67,
   "metadata": {},
   "outputs": [
    {
     "data": {
      "image/png": "[encoded data removed]",
      "text/plain": [
       "<Figure size 432x288 with 1 Axes>"
      ]
     },
     "metadata": {
      "needs_background": "light"
     },
     "output_type": "display_data"
    }
   ],
   "source": [
    "# barplot with class-specific accuracies.\n",
    "# x-axis = % accuracy\n",
    "ax4 = sns.barplot(x=acc_hist4, y=class_list)"
   ]
  },
  {
   "cell_type": "markdown",
   "metadata": {},
   "source": [
    "### Broad Interpretation"
   ]
  },
  {
   "cell_type": "code",
   "execution_count": 255,
   "metadata": {},
   "outputs": [
    {
     "data": {
      "image/png": "[encoded data removed]",
      "text/plain": [
       "<Figure size 432x288 with 1 Axes>"
      ]
     },
     "metadata": {
      "needs_background": "light"
     },
     "output_type": "display_data"
    }
   ],
   "source": [
    "# compares all of the ablated models performance \n",
    "# Note: Layer 0 = Origial Model's Performance\n",
    "accs = [original_acc, gen_acc1, gen_acc2, gen_acc3, gen_acc4]\n",
    "layers = [0, 1, 2, 3, 4]\n",
    "\n",
    "plt.plot(layers, accs, marker='o')\n",
    "plt.ylim(0,80)\n",
    "plt.title(\"Effects of Ablation in Sublayer 0\")\n",
    "plt.xlabel(\"Layer Ablated\")\n",
    "plt.ylabel(\"Overall Accuracy\")\n",
    "plt.show()"
   ]
  },
  {
   "cell_type": "code",
   "execution_count": 259,
   "metadata": {},
   "outputs": [],
   "source": [
    "all_accuracies = [acc_hist, acc_hist1, acc_hist2, acc_hist3, acc_hist4]\n",
    "\n",
    "plane_acc = [] ;  dog_acc = []\n",
    "car_acc = []   ;  frog_acc = []\n",
    "bird_acc = []  ;  horse_acc = []\n",
    "cat_acc = []   ;  ship_acc = []\n",
    "deer_acc = []  ;  truck_acc = []\n",
    "\n",
    "for i in all_accuracies:\n",
    "    plane_acc.append(i[0])\n",
    "    car_acc.append(i[1])\n",
    "    bird_acc.append(i[2])\n",
    "    cat_acc.append(i[3])\n",
    "    deer_acc.append(i[4])\n",
    "    dog_acc.append(i[5])\n",
    "    frog_acc.append(i[6])\n",
    "    horse_acc.append(i[7])\n",
    "    ship_acc.append(i[8])\n",
    "    truck_acc.append(i[9])"
   ]
  },
  {
   "cell_type": "code",
   "execution_count": 260,
   "metadata": {},
   "outputs": [
    {
     "data": {
      "image/png": "[encoded data removed]",
      "text/plain": [
       "<Figure size 432x288 with 1 Axes>"
      ]
     },
     "metadata": {
      "needs_background": "light"
     },
     "output_type": "display_data"
    }
   ],
   "source": [
    "plt.plot(layers, plane_acc, marker='o', linewidth=0.5, label = 'Plane')\n",
    "plt.plot(layers, car_acc, marker='o', linewidth=0.5, label = 'Car')\n",
    "plt.plot(layers, bird_acc, marker='o', linewidth=0.5, label = 'Bird')\n",
    "plt.plot(layers, cat_acc, marker='o', linewidth=0.5, label = 'Cat')\n",
    "plt.plot(layers, deer_acc, marker='o', linewidth=0.5, label = 'Deer')\n",
    "plt.plot(layers, dog_acc, marker='o', linewidth=0.5, label = 'Dog')\n",
    "plt.plot(layers, frog_acc, marker='o', linewidth=0.5, label = 'Frog')\n",
    "plt.plot(layers, horse_acc, marker='o', linewidth=0.5, label = 'Horse')\n",
    "plt.plot(layers, ship_acc, marker='o', linewidth=0.5, label = 'Ship')\n",
    "plt.plot(layers, truck_acc, marker='o', linewidth=0.5, label = 'Truck')\n",
    "\n",
    "plt.ylim(-5,105)\n",
    "plt.title(\"Individual Effects of Ablation in Sublayer 0\")\n",
    "plt.xlabel(\"Layer Ablated\")\n",
    "plt.ylabel(\"Accuracy\")\n",
    "plt.legend(bbox_to_anchor=(1.3, 0.5), loc='right')\n",
    "plt.show()"
   ]
  },
  {
   "cell_type": "markdown",
   "metadata": {},
   "source": [
    "## Ablation of *layern.1.conv2.weight*"
   ]
  },
  {
   "cell_type": "code",
   "execution_count": 166,
   "metadata": {},
   "outputs": [],
   "source": [
    "manipulated_model1_1 = copy.deepcopy(model_ft)\n",
    "manipulated_model2_1 = copy.deepcopy(model_ft)\n",
    "manipulated_model3_1 = copy.deepcopy(model_ft)\n",
    "manipulated_model4_1 = copy.deepcopy(model_ft)\n",
    "\n",
    "# stores state_dict of all soon-to-be manipulated models\n",
    "manipulated_dict1_1 = manipulated_model1_1.state_dict()\n",
    "manipulated_dict2_1 = manipulated_model2_1.state_dict()\n",
    "manipulated_dict3_1 = manipulated_model3_1.state_dict()\n",
    "manipulated_dict4_1 = manipulated_model4_1.state_dict()\n",
    "\n",
    "ablation_layer1 = torch.zeros(64, 64, 3, 3)\n",
    "ablation_layer2 = torch.zeros(128, 128, 3, 3)\n",
    "ablation_layer3 = torch.zeros(256, 256, 3, 3)\n",
    "ablation_layer4 = torch.zeros(512, 512, 3, 3)"
   ]
  },
  {
   "cell_type": "markdown",
   "metadata": {},
   "source": [
    "### Ablation: Layer 1"
   ]
  },
  {
   "cell_type": "code",
   "execution_count": 168,
   "metadata": {},
   "outputs": [
    {
     "data": {
      "text/plain": [
       "<All keys matched successfully>"
      ]
     },
     "execution_count": 168,
     "metadata": {},
     "output_type": "execute_result"
    }
   ],
   "source": [
    "# ablate layer 1\n",
    "manipulated_dict1_1['layer1.1.conv2.weight'] = ablation_layer1\n",
    "\n",
    "# sanity check\n",
    "# manipulated_dict1_1['layer1.1.conv2.weight']\n",
    "\n",
    "# load ablated model\n",
    "manipulated_model1_1.load_state_dict(manipulated_dict1_1)\n",
    "\n",
    "# sanity check\n",
    "# manipulated_model1_1.state_dict()"
   ]
  },
  {
   "cell_type": "code",
   "execution_count": 169,
   "metadata": {},
   "outputs": [
    {
     "name": "stdout",
     "output_type": "stream",
     "text": [
      "Accuracy of the network on the 10000 test images: 70 %\n",
      "\n",
      "Accuracy of the network on the 10 classes\n",
      "Accuracy of plane : 56 %\n",
      "Accuracy of   car : 92 %\n",
      "Accuracy of  bird : 61 %\n",
      "Accuracy of   cat : 40 %\n",
      "Accuracy of  deer : 53 %\n",
      "Accuracy of   dog : 46 %\n",
      "Accuracy of  frog : 77 %\n",
      "Accuracy of horse : 75 %\n",
      "Accuracy of  ship : 71 %\n",
      "Accuracy of truck : 70 %\n"
     ]
    }
   ],
   "source": [
    "# prints overall and class-specific accuracies\n",
    "gen_acc1_1 = gen_accuracy(manipulated_model1_1)\n",
    "print()\n",
    "acc_hist1_1 = accuracies(manipulated_model1_1)"
   ]
  },
  {
   "cell_type": "code",
   "execution_count": 170,
   "metadata": {},
   "outputs": [
    {
     "data": {
      "image/png": "[encoded data removed]",
      "text/plain": [
       "<Figure size 432x288 with 1 Axes>"
      ]
     },
     "metadata": {
      "needs_background": "light"
     },
     "output_type": "display_data"
    }
   ],
   "source": [
    "# barplot with class-specific accuracies.\n",
    "# x-axis = % accuracy\n",
    "ax1_1 = sns.barplot(x=acc_hist1_1, y=class_list)"
   ]
  },
  {
   "cell_type": "markdown",
   "metadata": {},
   "source": [
    "### Ablation: Layer 2"
   ]
  },
  {
   "cell_type": "code",
   "execution_count": 171,
   "metadata": {},
   "outputs": [
    {
     "data": {
      "text/plain": [
       "<All keys matched successfully>"
      ]
     },
     "execution_count": 171,
     "metadata": {},
     "output_type": "execute_result"
    }
   ],
   "source": [
    "# ablate layer 2\n",
    "manipulated_dict2_1['layer2.1.conv2.weight'] = ablation_layer2\n",
    "\n",
    "# sanity check\n",
    "# manipulated_dict2_1['layer2.1.conv2.weight']\n",
    "\n",
    "# load ablated model\n",
    "manipulated_model2_1.load_state_dict(manipulated_dict2_1)\n",
    "\n",
    "# sanity check\n",
    "# manipulated_model2_1.state_dict()"
   ]
  },
  {
   "cell_type": "code",
   "execution_count": 172,
   "metadata": {},
   "outputs": [
    {
     "name": "stdout",
     "output_type": "stream",
     "text": [
      "Accuracy of the network on the 10000 test images: 66 %\n",
      "\n",
      "Accuracy of the network on the 10 classes\n",
      "Accuracy of plane : 43 %\n",
      "Accuracy of   car : 84 %\n",
      "Accuracy of  bird : 76 %\n",
      "Accuracy of   cat : 50 %\n",
      "Accuracy of  deer : 53 %\n",
      "Accuracy of   dog : 26 %\n",
      "Accuracy of  frog : 72 %\n",
      "Accuracy of horse : 66 %\n",
      "Accuracy of  ship : 76 %\n",
      "Accuracy of truck : 82 %\n"
     ]
    }
   ],
   "source": [
    "# prints overall and class-specific accuracies\n",
    "gen_acc2_1 = gen_accuracy(manipulated_model2_1)\n",
    "print()\n",
    "acc_hist2_1 = accuracies(manipulated_model2_1)"
   ]
  },
  {
   "cell_type": "code",
   "execution_count": 174,
   "metadata": {},
   "outputs": [
    {
     "data": {
      "image/png": "[encoded data removed]",
      "text/plain": [
       "<Figure size 432x288 with 1 Axes>"
      ]
     },
     "metadata": {
      "needs_background": "light"
     },
     "output_type": "display_data"
    }
   ],
   "source": [
    "# barplot with class-specific accuracies.\n",
    "# x-axis = % accuracy\n",
    "ax2_1 = sns.barplot(x=acc_hist2_1, y=class_list)"
   ]
  },
  {
   "cell_type": "markdown",
   "metadata": {},
   "source": [
    "### Ablation: Layer 3"
   ]
  },
  {
   "cell_type": "code",
   "execution_count": 175,
   "metadata": {},
   "outputs": [
    {
     "data": {
      "text/plain": [
       "<All keys matched successfully>"
      ]
     },
     "execution_count": 175,
     "metadata": {},
     "output_type": "execute_result"
    }
   ],
   "source": [
    "# ablate layer 3\n",
    "manipulated_dict3_1['layer3.1.conv2.weight'] = ablation_layer3\n",
    "\n",
    "# sanity check\n",
    "# manipulated_dict3_1['layer3.1.conv2.weight']\n",
    "\n",
    "# load ablated model\n",
    "manipulated_model3_1.load_state_dict(manipulated_dict3_1)\n",
    "\n",
    "# sanity check\n",
    "# manipulated_model3_1.state_dict()"
   ]
  },
  {
   "cell_type": "code",
   "execution_count": 176,
   "metadata": {},
   "outputs": [
    {
     "name": "stdout",
     "output_type": "stream",
     "text": [
      "Accuracy of the network on the 10000 test images: 71 %\n",
      "\n",
      "Accuracy of the network on the 10 classes\n",
      "Accuracy of plane : 75 %\n",
      "Accuracy of   car : 92 %\n",
      "Accuracy of  bird : 61 %\n",
      "Accuracy of   cat : 54 %\n",
      "Accuracy of  deer : 53 %\n",
      "Accuracy of   dog : 33 %\n",
      "Accuracy of  frog : 83 %\n",
      "Accuracy of horse : 91 %\n",
      "Accuracy of  ship : 71 %\n",
      "Accuracy of truck : 82 %\n"
     ]
    }
   ],
   "source": [
    "# prints overall and class-specific accuracies\n",
    "gen_acc3_1 = gen_accuracy(manipulated_model3_1)\n",
    "print()\n",
    "acc_hist3_1 = accuracies(manipulated_model3_1)"
   ]
  },
  {
   "cell_type": "code",
   "execution_count": 177,
   "metadata": {},
   "outputs": [
    {
     "data": {
      "image/png": "[encoded data removed]",
      "text/plain": [
       "<Figure size 432x288 with 1 Axes>"
      ]
     },
     "metadata": {
      "needs_background": "light"
     },
     "output_type": "display_data"
    }
   ],
   "source": [
    "# barplot with class-specific accuracies.\n",
    "# x-axis = % accuracy\n",
    "ax3_1 = sns.barplot(x=acc_hist3_1, y=class_list)"
   ]
  },
  {
   "cell_type": "markdown",
   "metadata": {},
   "source": [
    "### Ablation: Layer 4"
   ]
  },
  {
   "cell_type": "code",
   "execution_count": 178,
   "metadata": {},
   "outputs": [
    {
     "data": {
      "text/plain": [
       "<All keys matched successfully>"
      ]
     },
     "execution_count": 178,
     "metadata": {},
     "output_type": "execute_result"
    }
   ],
   "source": [
    "# ablate layer 4\n",
    "manipulated_dict4_1['layer4.1.conv2.weight'] = ablation_layer4\n",
    "\n",
    "# sanity check\n",
    "# manipulated_dict4_1['layer4.1.conv2.weight']\n",
    "\n",
    "# load ablated model\n",
    "manipulated_model4_1.load_state_dict(manipulated_dict4_1)\n",
    "\n",
    "# sanity check\n",
    "# manipulated_model4_1.state_dict()"
   ]
  },
  {
   "cell_type": "code",
   "execution_count": 179,
   "metadata": {},
   "outputs": [
    {
     "name": "stdout",
     "output_type": "stream",
     "text": [
      "Accuracy of the network on the 10000 test images: 43 %\n",
      "\n",
      "Accuracy of the network on the 10 classes\n",
      "Accuracy of plane : 43 %\n",
      "Accuracy of   car : 61 %\n",
      "Accuracy of  bird : 61 %\n",
      "Accuracy of   cat : 40 %\n",
      "Accuracy of  deer :  0 %\n",
      "Accuracy of   dog : 40 %\n",
      "Accuracy of  frog :  0 %\n",
      "Accuracy of horse : 66 %\n",
      "Accuracy of  ship :  4 %\n",
      "Accuracy of truck : 52 %\n"
     ]
    }
   ],
   "source": [
    "# prints overall and class-specific accuracies\n",
    "gen_acc4_1 = gen_accuracy(manipulated_model4_1)\n",
    "print()\n",
    "acc_hist4_1 = accuracies(manipulated_model4_1)"
   ]
  },
  {
   "cell_type": "code",
   "execution_count": 180,
   "metadata": {},
   "outputs": [
    {
     "data": {
      "image/png": "[encoded data removed]",
      "text/plain": [
       "<Figure size 432x288 with 1 Axes>"
      ]
     },
     "metadata": {
      "needs_background": "light"
     },
     "output_type": "display_data"
    }
   ],
   "source": [
    "# barplot with class-specific accuracies.\n",
    "# x-axis = % accuracy\n",
    "ax4_1 = sns.barplot(x=acc_hist4_1, y=class_list)"
   ]
  },
  {
   "cell_type": "markdown",
   "metadata": {},
   "source": [
    "### Broad Interpretation"
   ]
  },
  {
   "cell_type": "code",
   "execution_count": 256,
   "metadata": {},
   "outputs": [
    {
     "data": {
      "image/png": "[encoded data removed]",
      "text/plain": [
       "<Figure size 432x288 with 1 Axes>"
      ]
     },
     "metadata": {
      "needs_background": "light"
     },
     "output_type": "display_data"
    }
   ],
   "source": [
    "# compares all of the ablated models performance \n",
    "# Note: Layer 0 = Origial Model's Performance\n",
    "\n",
    "accs_1 = [original_acc, gen_acc1_1, gen_acc2_1, gen_acc3_1, gen_acc4_1]\n",
    "layers = [0, 1, 2, 3, 4]\n",
    "\n",
    "plt.plot(layers, accs_1, marker='o')\n",
    "plt.ylim(0,80)\n",
    "plt.title(\"Effects of Ablation in Sublayer 1\")\n",
    "plt.xlabel(\"Layer Ablated\")\n",
    "plt.ylabel(\"Overall Accuracy\")\n",
    "plt.show()"
   ]
  },
  {
   "cell_type": "code",
   "execution_count": 261,
   "metadata": {},
   "outputs": [],
   "source": [
    "all_accuracies_1 = [acc_hist, acc_hist1_1, acc_hist2_1, acc_hist3_1, acc_hist4_1]\n",
    "\n",
    "plane_acc = [] ;  dog_acc = []\n",
    "car_acc = []   ;  frog_acc = []\n",
    "bird_acc = []  ;  horse_acc = []\n",
    "cat_acc = []   ;  ship_acc = []\n",
    "deer_acc = []  ;  truck_acc = []\n",
    "\n",
    "for i in all_accuracies_1:\n",
    "    plane_acc.append(i[0])\n",
    "    car_acc.append(i[1])\n",
    "    bird_acc.append(i[2])\n",
    "    cat_acc.append(i[3])\n",
    "    deer_acc.append(i[4])\n",
    "    dog_acc.append(i[5])\n",
    "    frog_acc.append(i[6])\n",
    "    horse_acc.append(i[7])\n",
    "    ship_acc.append(i[8])\n",
    "    truck_acc.append(i[9])"
   ]
  },
  {
   "cell_type": "code",
   "execution_count": 262,
   "metadata": {},
   "outputs": [
    {
     "data": {
      "image/png": "[encoded data removed]",
      "text/plain": [
       "<Figure size 432x288 with 1 Axes>"
      ]
     },
     "metadata": {
      "needs_background": "light"
     },
     "output_type": "display_data"
    }
   ],
   "source": [
    "# Plotting\n",
    "plt.plot(layers, plane_acc, marker='o', linewidth=0.5, label = 'Plane')\n",
    "plt.plot(layers, car_acc, marker='o', linewidth=0.5, label = 'Car')\n",
    "plt.plot(layers, bird_acc, marker='o', linewidth=0.5, label = 'Bird')\n",
    "plt.plot(layers, cat_acc, marker='o', linewidth=0.5, label = 'Cat')\n",
    "plt.plot(layers, deer_acc, marker='o', linewidth=0.5, label = 'Deer')\n",
    "plt.plot(layers, dog_acc, marker='o', linewidth=0.5, label = 'Dog')\n",
    "plt.plot(layers, frog_acc, marker='o', linewidth=0.5, label = 'Frog')\n",
    "plt.plot(layers, horse_acc, marker='o', linewidth=0.5, label = 'Horse')\n",
    "plt.plot(layers, ship_acc, marker='o', linewidth=0.5, label = 'Ship')\n",
    "plt.plot(layers, truck_acc, marker='o', linewidth=0.5, label = 'Truck')\n",
    "\n",
    "plt.ylim(-5,105)\n",
    "plt.title(\"Individual Effects of Ablation in Sublayer 1\")\n",
    "plt.xlabel(\"Layer Ablated\")\n",
    "plt.ylabel(\"Accuracy\")\n",
    "plt.legend(bbox_to_anchor=(1.3, 0.5), loc='right')\n",
    "plt.show()"
   ]
  },
  {
   "cell_type": "markdown",
   "metadata": {},
   "source": [
    "### Ablating entire layers, one at a time"
   ]
  },
  {
   "cell_type": "code",
   "execution_count": 193,
   "metadata": {},
   "outputs": [],
   "source": [
    "manipulated_model1_complete = copy.deepcopy(model_ft)\n",
    "manipulated_model2_complete = copy.deepcopy(model_ft)\n",
    "manipulated_model3_complete = copy.deepcopy(model_ft)\n",
    "manipulated_model4_complete = copy.deepcopy(model_ft)\n",
    "\n",
    "# stores state_dict of all soon-to-be manipulated models\n",
    "manipulated_dict1_complete = manipulated_model1_complete.state_dict()\n",
    "manipulated_dict2_complete = manipulated_model2_complete.state_dict()\n",
    "manipulated_dict3_complete = manipulated_model3_complete.state_dict()\n",
    "manipulated_dict4_complete = manipulated_model4_complete.state_dict()\n",
    "\n",
    "ablation_layer1 = torch.zeros(64, 64, 3, 3)\n",
    "ablation_layer2 = torch.zeros(128, 128, 3, 3)\n",
    "ablation_layer3 = torch.zeros(256, 256, 3, 3)\n",
    "ablation_layer4 = torch.zeros(512, 512, 3, 3)"
   ]
  },
  {
   "cell_type": "markdown",
   "metadata": {},
   "source": [
    "### Ablation: Layer 1"
   ]
  },
  {
   "cell_type": "code",
   "execution_count": 194,
   "metadata": {},
   "outputs": [
    {
     "data": {
      "text/plain": [
       "<All keys matched successfully>"
      ]
     },
     "execution_count": 194,
     "metadata": {},
     "output_type": "execute_result"
    }
   ],
   "source": [
    "# ablate layer 1\n",
    "manipulated_dict1_complete['layer1.0.conv2.weight'] = ablation_layer1\n",
    "manipulated_dict1_complete['layer1.1.conv2.weight'] = ablation_layer1\n",
    "\n",
    "# load ablated model\n",
    "manipulated_model1_complete.load_state_dict(manipulated_dict1_complete)\n",
    "\n",
    "# sanity check\n",
    "# manipulated_model1_complete.state_dict()"
   ]
  },
  {
   "cell_type": "code",
   "execution_count": 195,
   "metadata": {},
   "outputs": [
    {
     "name": "stdout",
     "output_type": "stream",
     "text": [
      "Accuracy of the network on the 10000 test images: 52 %\n",
      "\n",
      "Accuracy of the network on the 10 classes\n",
      "Accuracy of plane : 31 %\n",
      "Accuracy of   car : 53 %\n",
      "Accuracy of  bird : 53 %\n",
      "Accuracy of   cat : 36 %\n",
      "Accuracy of  deer : 30 %\n",
      "Accuracy of   dog : 66 %\n",
      "Accuracy of  frog : 50 %\n",
      "Accuracy of horse : 41 %\n",
      "Accuracy of  ship : 66 %\n",
      "Accuracy of truck : 41 %\n"
     ]
    }
   ],
   "source": [
    "# prints overall and class-specific accuracies\n",
    "gen_acc1_complete = gen_accuracy(manipulated_model1_complete)\n",
    "print()\n",
    "acc_hist1_complete = accuracies(manipulated_model1_complete)"
   ]
  },
  {
   "cell_type": "code",
   "execution_count": null,
   "metadata": {},
   "outputs": [],
   "source": [
    "# barplot with class-specific accuracies.\n",
    "# x-axis = % accuracy\n",
    "#ax1_complete = sns.barplot(x=acc_hist1_complete, y=class_list)"
   ]
  },
  {
   "cell_type": "markdown",
   "metadata": {},
   "source": [
    "### Ablation: Layer 2"
   ]
  },
  {
   "cell_type": "code",
   "execution_count": 196,
   "metadata": {},
   "outputs": [
    {
     "data": {
      "text/plain": [
       "<All keys matched successfully>"
      ]
     },
     "execution_count": 196,
     "metadata": {},
     "output_type": "execute_result"
    }
   ],
   "source": [
    "# ablate layer 2\n",
    "manipulated_dict2_complete['layer2.0.conv2.weight'] = ablation_layer2\n",
    "manipulated_dict2_complete['layer2.1.conv2.weight'] = ablation_layer2\n",
    "\n",
    "# load ablated model\n",
    "manipulated_model2_complete.load_state_dict(manipulated_dict2_complete)\n",
    "\n",
    "# sanity check\n",
    "# manipulated_model2_complete.state_dict()"
   ]
  },
  {
   "cell_type": "code",
   "execution_count": 197,
   "metadata": {},
   "outputs": [
    {
     "name": "stdout",
     "output_type": "stream",
     "text": [
      "Accuracy of the network on the 10000 test images: 47 %\n",
      "\n",
      "Accuracy of the network on the 10 classes\n",
      "Accuracy of plane : 31 %\n",
      "Accuracy of   car : 46 %\n",
      "Accuracy of  bird : 53 %\n",
      "Accuracy of   cat : 36 %\n",
      "Accuracy of  deer : 30 %\n",
      "Accuracy of   dog : 33 %\n",
      "Accuracy of  frog : 77 %\n",
      "Accuracy of horse : 66 %\n",
      "Accuracy of  ship : 61 %\n",
      "Accuracy of truck : 58 %\n"
     ]
    }
   ],
   "source": [
    "gen_acc2_complete = gen_accuracy(manipulated_model2_complete)\n",
    "print()\n",
    "acc_hist2_complete = accuracies(manipulated_model2_complete)"
   ]
  },
  {
   "cell_type": "code",
   "execution_count": null,
   "metadata": {},
   "outputs": [],
   "source": [
    "# barplot with class-specific accuracies.\n",
    "# x-axis = % accuracy\n",
    "#ax2_complete = sns.barplot(x=acc_hist2_complete, y=class_list)"
   ]
  },
  {
   "cell_type": "markdown",
   "metadata": {},
   "source": [
    "### Ablation: Layer 3"
   ]
  },
  {
   "cell_type": "code",
   "execution_count": 198,
   "metadata": {},
   "outputs": [
    {
     "data": {
      "text/plain": [
       "<All keys matched successfully>"
      ]
     },
     "execution_count": 198,
     "metadata": {},
     "output_type": "execute_result"
    }
   ],
   "source": [
    "# ablate layer 3\n",
    "manipulated_dict3_complete['layer3.0.conv2.weight'] = ablation_layer3\n",
    "manipulated_dict3_complete['layer3.1.conv2.weight'] = ablation_layer3\n",
    "\n",
    "# load ablated model\n",
    "manipulated_model3_complete.load_state_dict(manipulated_dict3_complete)\n",
    "\n",
    "# sanity check\n",
    "# manipulated_model3_complete.state_dict()"
   ]
  },
  {
   "cell_type": "code",
   "execution_count": 199,
   "metadata": {},
   "outputs": [
    {
     "name": "stdout",
     "output_type": "stream",
     "text": [
      "Accuracy of the network on the 10000 test images: 35 %\n",
      "\n",
      "Accuracy of the network on the 10 classes\n",
      "Accuracy of plane : 31 %\n",
      "Accuracy of   car : 46 %\n",
      "Accuracy of  bird : 46 %\n",
      "Accuracy of   cat : 31 %\n",
      "Accuracy of  deer : 23 %\n",
      "Accuracy of   dog : 26 %\n",
      "Accuracy of  frog : 50 %\n",
      "Accuracy of horse :  8 %\n",
      "Accuracy of  ship : 38 %\n",
      "Accuracy of truck : 52 %\n"
     ]
    }
   ],
   "source": [
    "# prints overall and class-specific accuracies\n",
    "gen_acc3_complete = gen_accuracy(manipulated_model3_complete)\n",
    "print()\n",
    "acc_hist3_complete = accuracies(manipulated_model3_complete)"
   ]
  },
  {
   "cell_type": "code",
   "execution_count": null,
   "metadata": {},
   "outputs": [],
   "source": [
    "# barplot with class-specific accuracies.\n",
    "# x-axis = % accuracy\n",
    "#ax3_complete = sns.barplot(x=acc_hist3_complete, y=class_list)"
   ]
  },
  {
   "cell_type": "markdown",
   "metadata": {},
   "source": [
    "### Ablation: Layer 4"
   ]
  },
  {
   "cell_type": "code",
   "execution_count": 200,
   "metadata": {},
   "outputs": [
    {
     "data": {
      "text/plain": [
       "<All keys matched successfully>"
      ]
     },
     "execution_count": 200,
     "metadata": {},
     "output_type": "execute_result"
    }
   ],
   "source": [
    "# ablate layer 4\n",
    "manipulated_dict4_complete['layer4.0.conv2.weight'] = ablation_layer4\n",
    "manipulated_dict4_complete['layer4.1.conv2.weight'] = ablation_layer4\n",
    "\n",
    "# load ablated model\n",
    "manipulated_model4_complete.load_state_dict(manipulated_dict4_complete)\n",
    "\n",
    "# sanity check\n",
    "# manipulated_model4_complete.state_dict()"
   ]
  },
  {
   "cell_type": "code",
   "execution_count": 263,
   "metadata": {},
   "outputs": [
    {
     "name": "stdout",
     "output_type": "stream",
     "text": [
      "Accuracy of the network on the 10000 test images: 17 %\n",
      "\n",
      "Accuracy of the network on the 10 classes\n",
      "Accuracy of plane : 25 %\n",
      "Accuracy of   car :  0 %\n",
      "Accuracy of  bird : 46 %\n",
      "Accuracy of   cat : 50 %\n",
      "Accuracy of  deer :  0 %\n",
      "Accuracy of   dog : 46 %\n",
      "Accuracy of  frog :  0 %\n",
      "Accuracy of horse :  8 %\n",
      "Accuracy of  ship :  0 %\n",
      "Accuracy of truck :  0 %\n"
     ]
    }
   ],
   "source": [
    "# prints overall and class-specific accuracies\n",
    "gen_acc4_complete = gen_accuracy(manipulated_model4_complete)\n",
    "print()\n",
    "acc_hist4_complete = accuracies(manipulated_model4_complete)"
   ]
  },
  {
   "cell_type": "code",
   "execution_count": null,
   "metadata": {},
   "outputs": [],
   "source": [
    "# barplot with class-specific accuracies.\n",
    "# x-axis = % accuracy\n",
    "#ax4_complete = sns.barplot(x=acc_hist4_complete, y=class_list)"
   ]
  },
  {
   "cell_type": "markdown",
   "metadata": {},
   "source": [
    "### Broad Interpretation"
   ]
  },
  {
   "cell_type": "code",
   "execution_count": 266,
   "metadata": {},
   "outputs": [
    {
     "data": {
      "image/png": "[encoded data removed]",
      "text/plain": [
       "<Figure size 432x288 with 1 Axes>"
      ]
     },
     "metadata": {
      "needs_background": "light"
     },
     "output_type": "display_data"
    }
   ],
   "source": [
    "# compares all of the ablated models performance \n",
    "# Note: Layer 0 = Origial Model's Performance\n",
    "\n",
    "accs_complete = [original_acc, gen_acc1_complete, gen_acc2_complete,\n",
    "                 gen_acc3_complete, gen_acc4_complete]\n",
    "\n",
    "plt.plot(layers, accs_complete, marker='o')\n",
    "plt.ylim(0,80)\n",
    "plt.title(\"Effects of Layer Ablation\")\n",
    "plt.xlabel(\"Layer Ablated\")\n",
    "plt.ylabel(\"Overall Accuracy\")\n",
    "plt.show()"
   ]
  },
  {
   "cell_type": "code",
   "execution_count": 268,
   "metadata": {},
   "outputs": [],
   "source": [
    "all_accuracies_complete = [acc_hist, acc_hist1_complete, acc_hist2_complete,\n",
    "                           acc_hist3_complete, acc_hist4_complete]\n",
    "\n",
    "plane_acc = [] ;  dog_acc = []\n",
    "car_acc = []   ;  frog_acc = []\n",
    "bird_acc = []  ;  horse_acc = []\n",
    "cat_acc = []   ;  ship_acc = []\n",
    "deer_acc = []  ;  truck_acc = []\n",
    "\n",
    "for i in all_accuracies_complete:\n",
    "    plane_acc.append(i[0])\n",
    "    car_acc.append(i[1])\n",
    "    bird_acc.append(i[2])\n",
    "    cat_acc.append(i[3])\n",
    "    deer_acc.append(i[4])\n",
    "    dog_acc.append(i[5])\n",
    "    frog_acc.append(i[6])\n",
    "    horse_acc.append(i[7])\n",
    "    ship_acc.append(i[8])\n",
    "    truck_acc.append(i[9])"
   ]
  },
  {
   "cell_type": "code",
   "execution_count": 269,
   "metadata": {},
   "outputs": [
    {
     "data": {
      "image/png": "[encoded data removed]",
      "text/plain": [
       "<Figure size 432x288 with 1 Axes>"
      ]
     },
     "metadata": {
      "needs_background": "light"
     },
     "output_type": "display_data"
    }
   ],
   "source": [
    "# Plotting\n",
    "plt.plot(layers, plane_acc, marker='o', linewidth=0.5, label = 'Plane')\n",
    "plt.plot(layers, car_acc, marker='o', linewidth=0.5, label = 'Car')\n",
    "plt.plot(layers, bird_acc, marker='o', linewidth=0.5, label = 'Bird')\n",
    "plt.plot(layers, cat_acc, marker='o', linewidth=0.5, label = 'Cat')\n",
    "plt.plot(layers, deer_acc, marker='o', linewidth=0.5, label = 'Deer')\n",
    "plt.plot(layers, dog_acc, marker='o', linewidth=0.5, label = 'Dog')\n",
    "plt.plot(layers, frog_acc, marker='o', linewidth=0.5, label = 'Frog')\n",
    "plt.plot(layers, horse_acc, marker='o', linewidth=0.5, label = 'Horse')\n",
    "plt.plot(layers, ship_acc, marker='o', linewidth=0.5, label = 'Ship')\n",
    "plt.plot(layers, truck_acc, marker='o', linewidth=0.5, label = 'Truck')\n",
    "\n",
    "plt.ylim(-5,105)\n",
    "plt.title(\"Individual Effects of Layer Ablation\")\n",
    "plt.xlabel(\"Layer Ablated\")\n",
    "plt.ylabel(\"Accuracy\")\n",
    "plt.legend(bbox_to_anchor=(1.3, 0.5), loc='right')\n",
    "plt.show()"
   ]
  },
  {
   "cell_type": "markdown",
   "metadata": {},
   "source": [
    "### Data Augmentation/Stimulation"
   ]
  },
  {
   "cell_type": "code",
   "execution_count": 219,
   "metadata": {},
   "outputs": [],
   "source": [
    "augmented_model1_complete = copy.deepcopy(model_ft)\n",
    "augmented_model2_complete = copy.deepcopy(model_ft)\n",
    "augmented_model3_complete = copy.deepcopy(model_ft)\n",
    "augmented_model4_complete = copy.deepcopy(model_ft)\n",
    "\n",
    "# stores state_dict of all soon-to-be manipulated models\n",
    "augmented_dict1_complete = augmented_model1_complete.state_dict()\n",
    "augmented_dict2_complete = augmented_model2_complete.state_dict()\n",
    "augmented_dict3_complete = augmented_model3_complete.state_dict()\n",
    "augmented_dict4_complete = augmented_model4_complete.state_dict()\n",
    "\n",
    "random.seed(1) \n",
    "augmented_layer1 = torch.from_numpy(np.random.rand(64, 64, 3, 3))\n",
    "\n",
    "random.seed(2) \n",
    "augmented_layer2 = torch.from_numpy(np.random.rand(128, 128, 3, 3))\n",
    "\n",
    "random.seed(3) \n",
    "augmented_layer3 = torch.from_numpy(np.random.rand(256, 256, 3, 3))\n",
    "\n",
    "random.seed(4) \n",
    "augmented_layer4 = torch.from_numpy(np.random.rand(512, 512, 3, 3))"
   ]
  },
  {
   "cell_type": "markdown",
   "metadata": {},
   "source": [
    "### Augmentation: Layer 1"
   ]
  },
  {
   "cell_type": "code",
   "execution_count": 228,
   "metadata": {},
   "outputs": [
    {
     "data": {
      "text/plain": [
       "<All keys matched successfully>"
      ]
     },
     "execution_count": 228,
     "metadata": {},
     "output_type": "execute_result"
    }
   ],
   "source": [
    "# augmented layer 1\n",
    "augmented_dict1_complete['layer1.0.conv2.weight'] = augmented_layer1\n",
    "augmented_dict1_complete['layer1.1.conv2.weight'] = augmented_layer1\n",
    "\n",
    "# load augmented model\n",
    "augmented_model1_complete.load_state_dict(augmented_dict1_complete)\n",
    "\n",
    "# sanity check\n",
    "# augmented_model1_complete.state_dict()"
   ]
  },
  {
   "cell_type": "code",
   "execution_count": 229,
   "metadata": {},
   "outputs": [
    {
     "name": "stdout",
     "output_type": "stream",
     "text": [
      "Accuracy of the network on the 10000 test images: 41 %\n",
      "\n",
      "Accuracy of the network on the 10 classes\n",
      "Accuracy of plane : 43 %\n",
      "Accuracy of   car : 46 %\n",
      "Accuracy of  bird : 38 %\n",
      "Accuracy of   cat : 27 %\n",
      "Accuracy of  deer : 38 %\n",
      "Accuracy of   dog : 33 %\n",
      "Accuracy of  frog : 38 %\n",
      "Accuracy of horse : 33 %\n",
      "Accuracy of  ship : 52 %\n",
      "Accuracy of truck : 58 %\n"
     ]
    }
   ],
   "source": [
    "# prints overall and class-specific accuracies\n",
    "gen_acc_augmentation1 = gen_accuracy(augmented_model1_complete)\n",
    "print()\n",
    "ind_acc_augmentation1 = accuracies(augmented_model1_complete)"
   ]
  },
  {
   "cell_type": "code",
   "execution_count": 230,
   "metadata": {},
   "outputs": [
    {
     "data": {
      "image/png": "[encoded data removed]",
      "text/plain": [
       "<Figure size 432x288 with 1 Axes>"
      ]
     },
     "metadata": {
      "needs_background": "light"
     },
     "output_type": "display_data"
    }
   ],
   "source": [
    "# barplot with class-specific accuracies.\n",
    "# x-axis = % accuracy\n",
    "ax1_augmentation = sns.barplot(x=ind_acc_augmentation1, y=class_list)"
   ]
  },
  {
   "cell_type": "markdown",
   "metadata": {},
   "source": [
    "### Augmentation: Layer 2"
   ]
  },
  {
   "cell_type": "code",
   "execution_count": 231,
   "metadata": {},
   "outputs": [
    {
     "data": {
      "text/plain": [
       "<All keys matched successfully>"
      ]
     },
     "execution_count": 231,
     "metadata": {},
     "output_type": "execute_result"
    }
   ],
   "source": [
    "# augmented layer 2\n",
    "augmented_dict2_complete['layer2.0.conv2.weight'] = augmented_layer2\n",
    "augmented_dict2_complete['layer2.1.conv2.weight'] = augmented_layer2\n",
    "\n",
    "# load augmented model\n",
    "augmented_model2_complete.load_state_dict(augmented_dict2_complete)\n",
    "\n",
    "# sanity check\n",
    "# augmented_model2_complete.state_dict()"
   ]
  },
  {
   "cell_type": "code",
   "execution_count": 232,
   "metadata": {},
   "outputs": [
    {
     "name": "stdout",
     "output_type": "stream",
     "text": [
      "Accuracy of the network on the 10000 test images: 31 %\n",
      "\n",
      "Accuracy of the network on the 10 classes\n",
      "Accuracy of plane : 31 %\n",
      "Accuracy of   car :  7 %\n",
      "Accuracy of  bird : 30 %\n",
      "Accuracy of   cat : 22 %\n",
      "Accuracy of  deer : 15 %\n",
      "Accuracy of   dog :  6 %\n",
      "Accuracy of  frog : 50 %\n",
      "Accuracy of horse : 41 %\n",
      "Accuracy of  ship : 33 %\n",
      "Accuracy of truck : 35 %\n"
     ]
    }
   ],
   "source": [
    "# prints overall and class-specific accuracies\n",
    "gen_acc_augmentation2 = gen_accuracy(augmented_model2_complete)\n",
    "print()\n",
    "ind_acc_augmentation2 = accuracies(augmented_model2_complete)"
   ]
  },
  {
   "cell_type": "code",
   "execution_count": 233,
   "metadata": {},
   "outputs": [
    {
     "data": {
      "image/png": "[encoded data removed]",
      "text/plain": [
       "<Figure size 432x288 with 1 Axes>"
      ]
     },
     "metadata": {
      "needs_background": "light"
     },
     "output_type": "display_data"
    }
   ],
   "source": [
    "# barplot with class-specific accuracies.\n",
    "# x-axis = % accuracy\n",
    "ax2_augmentation = sns.barplot(x=ind_acc_augmentation2, y=class_list)"
   ]
  },
  {
   "cell_type": "markdown",
   "metadata": {},
   "source": [
    "### Augmentation: Layer 3"
   ]
  },
  {
   "cell_type": "code",
   "execution_count": 234,
   "metadata": {},
   "outputs": [
    {
     "data": {
      "text/plain": [
       "<All keys matched successfully>"
      ]
     },
     "execution_count": 234,
     "metadata": {},
     "output_type": "execute_result"
    }
   ],
   "source": [
    "# augmented layer 3\n",
    "augmented_dict3_complete['layer3.0.conv2.weight'] = augmented_layer3\n",
    "augmented_dict3_complete['layer3.1.conv2.weight'] = augmented_layer3\n",
    "\n",
    "# load augmented mode3\n",
    "augmented_model3_complete.load_state_dict(augmented_dict3_complete)\n",
    "\n",
    "# sanity check\n",
    "# augmented_model3_complete.state_dict()"
   ]
  },
  {
   "cell_type": "code",
   "execution_count": 235,
   "metadata": {},
   "outputs": [
    {
     "name": "stdout",
     "output_type": "stream",
     "text": [
      "Accuracy of the network on the 10000 test images: 11 %\n",
      "\n",
      "Accuracy of the network on the 10 classes\n",
      "Accuracy of plane :  0 %\n",
      "Accuracy of   car : 15 %\n",
      "Accuracy of  bird : 46 %\n",
      "Accuracy of   cat :  9 %\n",
      "Accuracy of  deer : 15 %\n",
      "Accuracy of   dog :  6 %\n",
      "Accuracy of  frog :  0 %\n",
      "Accuracy of horse : 16 %\n",
      "Accuracy of  ship :  9 %\n",
      "Accuracy of truck :  0 %\n"
     ]
    }
   ],
   "source": [
    "# prints overall and class-specific accuracies\n",
    "gen_acc_augmentation3 = gen_accuracy(augmented_model3_complete)\n",
    "print()\n",
    "ind_acc_augmentation3 = accuracies(augmented_model3_complete)"
   ]
  },
  {
   "cell_type": "code",
   "execution_count": 236,
   "metadata": {},
   "outputs": [
    {
     "data": {
      "image/png": "[encoded data removed]",
      "text/plain": [
       "<Figure size 432x288 with 1 Axes>"
      ]
     },
     "metadata": {
      "needs_background": "light"
     },
     "output_type": "display_data"
    }
   ],
   "source": [
    "# barplot with class-specific accuracies.\n",
    "# x-axis = % accuracy\n",
    "ax3_augmentation = sns.barplot(x=ind_acc_augmentation3, y=class_list)"
   ]
  },
  {
   "cell_type": "markdown",
   "metadata": {},
   "source": [
    "### Augmentation: Layer 4"
   ]
  },
  {
   "cell_type": "code",
   "execution_count": 237,
   "metadata": {},
   "outputs": [
    {
     "data": {
      "text/plain": [
       "<All keys matched successfully>"
      ]
     },
     "execution_count": 237,
     "metadata": {},
     "output_type": "execute_result"
    }
   ],
   "source": [
    "# augmented layer 4\n",
    "augmented_dict4_complete['layer4.0.conv2.weight'] = augmented_layer4\n",
    "augmented_dict4_complete['layer4.1.conv2.weight'] = augmented_layer4\n",
    "\n",
    "# load augmented mode4\n",
    "augmented_model4_complete.load_state_dict(augmented_dict4_complete)\n",
    "\n",
    "# sanity check\n",
    "# augmented_model4_complete.state_dict()"
   ]
  },
  {
   "cell_type": "code",
   "execution_count": 238,
   "metadata": {},
   "outputs": [
    {
     "name": "stdout",
     "output_type": "stream",
     "text": [
      "Accuracy of the network on the 10000 test images: 11 %\n",
      "\n",
      "Accuracy of the network on the 10 classes\n",
      "Accuracy of plane : 12 %\n",
      "Accuracy of   car :  0 %\n",
      "Accuracy of  bird : 15 %\n",
      "Accuracy of   cat : 54 %\n",
      "Accuracy of  deer :  0 %\n",
      "Accuracy of   dog :  6 %\n",
      "Accuracy of  frog : 11 %\n",
      "Accuracy of horse :  8 %\n",
      "Accuracy of  ship :  4 %\n",
      "Accuracy of truck :  0 %\n"
     ]
    }
   ],
   "source": [
    "# prints overall and class-specific accuracies\n",
    "gen_acc_augmentation4 = gen_accuracy(augmented_model4_complete)\n",
    "print()\n",
    "ind_acc_augmentation4 = accuracies(augmented_model4_complete)"
   ]
  },
  {
   "cell_type": "code",
   "execution_count": 240,
   "metadata": {},
   "outputs": [
    {
     "data": {
      "image/png": "[encoded data removed]",
      "text/plain": [
       "<Figure size 432x288 with 1 Axes>"
      ]
     },
     "metadata": {
      "needs_background": "light"
     },
     "output_type": "display_data"
    }
   ],
   "source": [
    "# barplot with class-specific accuracies.\n",
    "# x-axis = % accuracy\n",
    "ax4_augmentation = sns.barplot(x=ind_acc_augmentation4, y=class_list)"
   ]
  },
  {
   "cell_type": "markdown",
   "metadata": {},
   "source": [
    "### Broad Interpretation"
   ]
  },
  {
   "cell_type": "code",
   "execution_count": 270,
   "metadata": {},
   "outputs": [
    {
     "data": {
      "image/png": "[encoded data removed]",
      "text/plain": [
       "<Figure size 432x288 with 1 Axes>"
      ]
     },
     "metadata": {
      "needs_background": "light"
     },
     "output_type": "display_data"
    }
   ],
   "source": [
    "# compares all of the ablated models performance \n",
    "# Note: Layer 0 = Origial Model's Performance\n",
    "\n",
    "accs_complete_augmentation = [original_acc, gen_acc_augmentation1, gen_acc_augmentation2,\n",
    "                              gen_acc_augmentation3, gen_acc_augmentation4]\n",
    "\n",
    "plt.plot(layers, accs_complete_augmentation, marker='o')\n",
    "plt.ylim(0,80)\n",
    "plt.title(\"Effects of Layer Augmentation\")\n",
    "plt.xlabel(\"Layer Ablated\")\n",
    "plt.ylabel(\"Overall Accuracy\")\n",
    "plt.show()"
   ]
  },
  {
   "cell_type": "code",
   "execution_count": 271,
   "metadata": {},
   "outputs": [],
   "source": [
    "all_accuracies_complete = [acc_hist, ind_acc_augmentation1, ind_acc_augmentation2,\n",
    "                           ind_acc_augmentation3, ind_acc_augmentation4]\n",
    "\n",
    "plane_acc = [] ;  dog_acc = []\n",
    "car_acc = []   ;  frog_acc = []\n",
    "bird_acc = []  ;  horse_acc = []\n",
    "cat_acc = []   ;  ship_acc = []\n",
    "deer_acc = []  ;  truck_acc = []\n",
    "\n",
    "for i in all_accuracies_complete:\n",
    "    plane_acc.append(i[0])\n",
    "    car_acc.append(i[1])\n",
    "    bird_acc.append(i[2])\n",
    "    cat_acc.append(i[3])\n",
    "    deer_acc.append(i[4])\n",
    "    dog_acc.append(i[5])\n",
    "    frog_acc.append(i[6])\n",
    "    horse_acc.append(i[7])\n",
    "    ship_acc.append(i[8])\n",
    "    truck_acc.append(i[9])"
   ]
  },
  {
   "cell_type": "code",
   "execution_count": 273,
   "metadata": {},
   "outputs": [
    {
     "data": {
      "image/png": "[encoded data removed]",
      "text/plain": [
       "<Figure size 432x288 with 1 Axes>"
      ]
     },
     "metadata": {
      "needs_background": "light"
     },
     "output_type": "display_data"
    }
   ],
   "source": [
    "# Plotting\n",
    "plt.plot(layers, plane_acc, marker='o', linewidth=0.5, label = 'Plane')\n",
    "plt.plot(layers, car_acc, marker='o', linewidth=0.5, label = 'Car')\n",
    "plt.plot(layers, bird_acc, marker='o', linewidth=0.5, label = 'Bird')\n",
    "plt.plot(layers, cat_acc, marker='o', linewidth=0.5, label = 'Cat')\n",
    "plt.plot(layers, deer_acc, marker='o', linewidth=0.5, label = 'Deer')\n",
    "plt.plot(layers, dog_acc, marker='o', linewidth=0.5, label = 'Dog')\n",
    "plt.plot(layers, frog_acc, marker='o', linewidth=0.5, label = 'Frog')\n",
    "plt.plot(layers, horse_acc, marker='o', linewidth=0.5, label = 'Horse')\n",
    "plt.plot(layers, ship_acc, marker='o', linewidth=0.5, label = 'Ship')\n",
    "plt.plot(layers, truck_acc, marker='o', linewidth=0.5, label = 'Truck')\n",
    "\n",
    "plt.ylim(-5,105)\n",
    "plt.title(\"Individual Effects of Layer Augmentation\")\n",
    "plt.xlabel(\"Layer Ablated\")\n",
    "plt.ylabel(\"Accuracy\")\n",
    "plt.legend(bbox_to_anchor=(1.3, 0.5), loc='right')\n",
    "plt.show()"
   ]
  },
  {
   "cell_type": "markdown",
   "metadata": {},
   "source": [
    "### Other References:\n",
    "\n",
    "- https://pytorch.org/docs/stable/torchvision/models.html\n",
    "- https://www.cs.toronto.edu/~kriz/cifar.html\n",
    "- https://cs231n.github.io/transfer-learning/\n",
    "- https://blog.paperspace.com/pytorch-101-building-neural-networks/\n",
    "- https://discuss.pytorch.org/t/how-to-draw-loss-per-epoch/22333"
   ]
  }
 ],
 "metadata": {
  "kernelspec": {
   "display_name": "Python 3",
   "language": "python",
   "name": "python3"
  },
  "language_info": {
   "codemirror_mode": {
    "name": "ipython",
    "version": 3
   },
   "file_extension": ".py",
   "mimetype": "text/x-python",
   "name": "python",
   "nbconvert_exporter": "python",
   "pygments_lexer": "ipython3",
   "version": "3.7.3"
  }
 },
 "nbformat": 4,
 "nbformat_minor": 2
}
